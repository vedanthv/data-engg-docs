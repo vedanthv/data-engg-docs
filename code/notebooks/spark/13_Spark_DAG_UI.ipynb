{
 "cells": [
  {
   "cell_type": "code",
   "execution_count": 1,
   "id": "f3d4731a-4253-4345-90b6-9acc2ef6aef6",
   "metadata": {},
   "outputs": [
    {
     "name": "stderr",
     "output_type": "stream",
     "text": [
      "Setting default log level to \"WARN\".\n",
      "To adjust logging level use sc.setLogLevel(newLevel). For SparkR, use setLogLevel(newLevel).\n",
      "25/02/16 16:43:01 WARN NativeCodeLoader: Unable to load native-hadoop library for your platform... using builtin-java classes where applicable\n"
     ]
    },
    {
     "data": {
      "text/html": [
       "\n",
       "            <div>\n",
       "                <p><b>SparkSession - in-memory</b></p>\n",
       "                \n",
       "        <div>\n",
       "            <p><b>SparkContext</b></p>\n",
       "\n",
       "            <p><a href=\"http://ip-172-31-20-231.ec2.internal:4040\">Spark UI</a></p>\n",
       "\n",
       "            <dl>\n",
       "              <dt>Version</dt>\n",
       "                <dd><code>v3.5.4</code></dd>\n",
       "              <dt>Master</dt>\n",
       "                <dd><code>local[*]</code></dd>\n",
       "              <dt>AppName</dt>\n",
       "                <dd><code>Understand Plans and DAG</code></dd>\n",
       "            </dl>\n",
       "        </div>\n",
       "        \n",
       "            </div>\n",
       "        "
      ],
      "text/plain": [
       "<pyspark.sql.session.SparkSession at 0x7c179c4996d0>"
      ]
     },
     "execution_count": 1,
     "metadata": {},
     "output_type": "execute_result"
    }
   ],
   "source": [
    "# Spark Session\n",
    "from pyspark.sql import SparkSession\n",
    "\n",
    "spark = (\n",
    "    SparkSession\n",
    "    .builder\n",
    "    .appName(\"Understand Plans and DAG\")\n",
    "    .master(\"local[*]\")\n",
    "    .getOrCreate()\n",
    ")\n",
    "\n",
    "spark"
   ]
  },
  {
   "cell_type": "code",
   "execution_count": 2,
   "id": "1dd9af9e-0ae2-4be8-a4b3-60d1c8e72b06",
   "metadata": {},
   "outputs": [],
   "source": [
    "spark.conf.set(\"spark.sql.adaptive.enabled\",False)\n",
    "spark.conf.set(\"spark.sql.adaptive.coalescePartitions.enabled\",False)\n",
    "spark.conf.set(\"spark.sql.autoBroadcastJoinThreshold\", -1)"
   ]
  },
  {
   "cell_type": "code",
   "execution_count": 3,
   "id": "41c2b664-c1bd-47ab-9867-a3a3181a205c",
   "metadata": {},
   "outputs": [],
   "source": [
    "# Create dataframes\n",
    "\n",
    "df_1 = spark.range(4, 200, 2) # 1 job -> 8 tasks -> WriteExchange\n",
    "df_2 = spark.range(2, 200, 4) # 1 job -> 8 tasks -> WriteExchange"
   ]
  },
  {
   "cell_type": "code",
   "execution_count": 4,
   "id": "51c31bdb-d846-4ad1-9764-952160ab4172",
   "metadata": {},
   "outputs": [],
   "source": [
    "#Shuffle\n",
    "df_3 = df_1.repartition(5) # ReadExchange -> 1 job -> 5 tasks -> WriteExchange\n",
    "df_4 = df_2.repartition(7) # ReadExchange -> 1 job -> 7 tasks -> WriteExchange"
   ]
  },
  {
   "cell_type": "code",
   "execution_count": 5,
   "id": "3fe122ce-b4c8-43de-bc2f-e441ddb19337",
   "metadata": {},
   "outputs": [
    {
     "data": {
      "text/plain": [
       "7"
      ]
     },
     "execution_count": 5,
     "metadata": {},
     "output_type": "execute_result"
    }
   ],
   "source": [
    "df_4.rdd.getNumPartitions()"
   ]
  },
  {
   "cell_type": "code",
   "execution_count": 6,
   "id": "e1920d29-c9ec-42ac-89c1-8c9c9f804020",
   "metadata": {},
   "outputs": [],
   "source": [
    "# Join the dataframes\n",
    "\n",
    "# Shuffle\n",
    "df_joined = df_3.join(df_4, on=\"id\") # 1 stage -> read data from WriteExchange -> write to 200 partitions"
   ]
  },
  {
   "cell_type": "code",
   "execution_count": 7,
   "id": "b3878d0e-50c8-4b94-b45b-d4af7ad75355",
   "metadata": {},
   "outputs": [],
   "source": [
    "# Get the sum of ids\n",
    "\n",
    "df_sum = df_joined.selectExpr(\"sum(id) as total_sum\") # 1 stage -> 1 task read data from above 200 partitions"
   ]
  },
  {
   "cell_type": "code",
   "execution_count": 15,
   "id": "cf6469c3-66fd-40d3-988b-f450b9f0f24e",
   "metadata": {},
   "outputs": [
    {
     "name": "stderr",
     "output_type": "stream",
     "text": [
      "                                                                                "
     ]
    },
    {
     "data": {
      "text/plain": [
       "49"
      ]
     },
     "execution_count": 15,
     "metadata": {},
     "output_type": "execute_result"
    }
   ],
   "source": [
    "df_joined.count()"
   ]
  },
  {
   "cell_type": "code",
   "execution_count": 10,
   "id": "0f1df036-5305-4068-8dd0-2d0f907c05fd",
   "metadata": {},
   "outputs": [
    {
     "name": "stdout",
     "output_type": "stream",
     "text": [
      "== Physical Plan ==\n",
      "*(6) HashAggregate(keys=[], functions=[sum(id#0L)])\n",
      "+- Exchange SinglePartition, ENSURE_REQUIREMENTS, [plan_id=253]\n",
      "   +- *(5) HashAggregate(keys=[], functions=[partial_sum(id#0L)])\n",
      "      +- *(5) Project [id#0L]\n",
      "         +- *(5) SortMergeJoin [id#0L], [id#2L], Inner\n",
      "            :- *(2) Sort [id#0L ASC NULLS FIRST], false, 0\n",
      "            :  +- Exchange hashpartitioning(id#0L, 200), ENSURE_REQUIREMENTS, [plan_id=237]\n",
      "            :     +- Exchange RoundRobinPartitioning(5), REPARTITION_BY_NUM, [plan_id=236]\n",
      "            :        +- *(1) Range (4, 200, step=2, splits=2)\n",
      "            +- *(4) Sort [id#2L ASC NULLS FIRST], false, 0\n",
      "               +- Exchange hashpartitioning(id#2L, 200), ENSURE_REQUIREMENTS, [plan_id=244]\n",
      "                  +- Exchange RoundRobinPartitioning(7), REPARTITION_BY_NUM, [plan_id=243]\n",
      "                     +- *(3) Range (2, 200, step=4, splits=2)\n",
      "\n",
      "\n"
     ]
    }
   ],
   "source": [
    "df_sum.explain()"
   ]
  },
  {
   "cell_type": "markdown",
   "id": "d2cab4bd-137c-4301-9166-35f1c5cc8738",
   "metadata": {},
   "source": [
    "The number in '( )' maps to number after \"WholeStageCodeGen\" in the UI"
   ]
  },
  {
   "cell_type": "markdown",
   "id": "424d8e84-219a-49ce-9f1b-adf6ee219671",
   "metadata": {},
   "source": [
    "### How Spark Skips Stages?"
   ]
  },
  {
   "cell_type": "code",
   "execution_count": 11,
   "id": "8512efbe-0ecc-46fc-8a0b-f2689b97f623",
   "metadata": {},
   "outputs": [],
   "source": [
    "# Union the data again to see the skipped stages\n",
    "\n",
    "df_union = df_sum.union(df_4)"
   ]
  },
  {
   "cell_type": "code",
   "execution_count": 12,
   "id": "ed9f1fdf-1562-4d14-ae06-ccc5c45e764e",
   "metadata": {},
   "outputs": [
    {
     "name": "stderr",
     "output_type": "stream",
     "text": [
      "[Stage 16:==========================================>           (157 + 2) / 200]"
     ]
    },
    {
     "name": "stdout",
     "output_type": "stream",
     "text": [
      "+---------+\n",
      "|total_sum|\n",
      "+---------+\n",
      "|     4998|\n",
      "|       14|\n",
      "|       86|\n",
      "|       42|\n",
      "|      146|\n",
      "|      134|\n",
      "|      142|\n",
      "|      162|\n",
      "|       74|\n",
      "|       94|\n",
      "|       34|\n",
      "|      198|\n",
      "|      182|\n",
      "|      126|\n",
      "|      174|\n",
      "|       98|\n",
      "|       10|\n",
      "|       82|\n",
      "|      122|\n",
      "|      186|\n",
      "+---------+\n",
      "only showing top 20 rows\n",
      "\n"
     ]
    },
    {
     "name": "stderr",
     "output_type": "stream",
     "text": [
      "                                                                                "
     ]
    }
   ],
   "source": [
    "df_union.show()"
   ]
  },
  {
   "cell_type": "markdown",
   "id": "6dbd0f8c-60d3-4a87-99cd-76980c6398a6",
   "metadata": {},
   "source": [
    "Observe that all the stages that previously read ```df_sum``` and ```df_4``` are now skipped"
   ]
  },
  {
   "cell_type": "code",
   "execution_count": 13,
   "id": "bd1a07de-7391-4d6a-b6b3-32f06e5a46c3",
   "metadata": {},
   "outputs": [
    {
     "name": "stdout",
     "output_type": "stream",
     "text": [
      "== Physical Plan ==\n",
      "Union\n",
      ":- *(6) HashAggregate(keys=[], functions=[sum(id#0L)])\n",
      ":  +- Exchange SinglePartition, ENSURE_REQUIREMENTS, [plan_id=491]\n",
      ":     +- *(5) HashAggregate(keys=[], functions=[partial_sum(id#0L)])\n",
      ":        +- *(5) Project [id#0L]\n",
      ":           +- *(5) SortMergeJoin [id#0L], [id#2L], Inner\n",
      ":              :- *(2) Sort [id#0L ASC NULLS FIRST], false, 0\n",
      ":              :  +- Exchange hashpartitioning(id#0L, 200), ENSURE_REQUIREMENTS, [plan_id=475]\n",
      ":              :     +- Exchange RoundRobinPartitioning(5), REPARTITION_BY_NUM, [plan_id=474]\n",
      ":              :        +- *(1) Range (4, 200, step=2, splits=2)\n",
      ":              +- *(4) Sort [id#2L ASC NULLS FIRST], false, 0\n",
      ":                 +- Exchange hashpartitioning(id#2L, 200), ENSURE_REQUIREMENTS, [plan_id=482]\n",
      ":                    +- Exchange RoundRobinPartitioning(7), REPARTITION_BY_NUM, [plan_id=481]\n",
      ":                       +- *(3) Range (2, 200, step=4, splits=2)\n",
      "+- ReusedExchange [id#25L], Exchange RoundRobinPartitioning(7), REPARTITION_BY_NUM, [plan_id=481]\n",
      "\n",
      "\n"
     ]
    }
   ],
   "source": [
    "df_union.explain()"
   ]
  },
  {
   "cell_type": "markdown",
   "id": "8e1639ef-e202-4469-9b18-3f61ab8f748f",
   "metadata": {},
   "source": [
    "Observe we are reusing the same exchange shuffle write and not creating new one by reading df_4 once again"
   ]
  },
  {
   "cell_type": "markdown",
   "id": "15b714ad-9d2d-416e-9f6c-86722a06f700",
   "metadata": {},
   "source": [
    "Go to the SQL / Dataframe tab to clearly see how it doesnt read the data again"
   ]
  },
  {
   "cell_type": "code",
   "execution_count": null,
   "id": "997582af-d1c4-453f-bf70-76baf517ec70",
   "metadata": {},
   "outputs": [],
   "source": []
  }
 ],
 "metadata": {
  "kernelspec": {
   "display_name": "Python 3 (ipykernel)",
   "language": "python",
   "name": "python3"
  },
  "language_info": {
   "codemirror_mode": {
    "name": "ipython",
    "version": 3
   },
   "file_extension": ".py",
   "mimetype": "text/x-python",
   "name": "python",
   "nbconvert_exporter": "python",
   "pygments_lexer": "ipython3",
   "version": "3.12.3"
  }
 },
 "nbformat": 4,
 "nbformat_minor": 5
}
