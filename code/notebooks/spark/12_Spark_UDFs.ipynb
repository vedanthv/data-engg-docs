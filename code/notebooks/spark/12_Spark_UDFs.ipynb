{
 "cells": [
  {
   "cell_type": "code",
   "execution_count": 1,
   "id": "f741be22-f385-425d-8e8c-35f58bcce0d7",
   "metadata": {},
   "outputs": [
    {
     "name": "stderr",
     "output_type": "stream",
     "text": [
      "Setting default log level to \"WARN\".\n",
      "To adjust logging level use sc.setLogLevel(newLevel). For SparkR, use setLogLevel(newLevel).\n",
      "25/02/16 15:53:39 WARN NativeCodeLoader: Unable to load native-hadoop library for your platform... using builtin-java classes where applicable\n"
     ]
    },
    {
     "data": {
      "text/html": [
       "\n",
       "            <div>\n",
       "                <p><b>SparkSession - in-memory</b></p>\n",
       "                \n",
       "        <div>\n",
       "            <p><b>SparkContext</b></p>\n",
       "\n",
       "            <p><a href=\"http://ip-172-31-20-231.ec2.internal:4040\">Spark UI</a></p>\n",
       "\n",
       "            <dl>\n",
       "              <dt>Version</dt>\n",
       "                <dd><code>v3.5.4</code></dd>\n",
       "              <dt>Master</dt>\n",
       "                <dd><code>local[*]</code></dd>\n",
       "              <dt>AppName</dt>\n",
       "                <dd><code>UDFs</code></dd>\n",
       "            </dl>\n",
       "        </div>\n",
       "        \n",
       "            </div>\n",
       "        "
      ],
      "text/plain": [
       "<pyspark.sql.session.SparkSession at 0x7031b01611f0>"
      ]
     },
     "execution_count": 1,
     "metadata": {},
     "output_type": "execute_result"
    }
   ],
   "source": [
    "# Spark Session\n",
    "from pyspark.sql import SparkSession\n",
    "\n",
    "spark = (\n",
    "    SparkSession\n",
    "    .builder\n",
    "    .appName(\"UDFs\")\n",
    "    .master(\"local[*]\")\n",
    "    .getOrCreate()\n",
    ")\n",
    "\n",
    "spark"
   ]
  },
  {
   "cell_type": "code",
   "execution_count": 4,
   "id": "de05a278-ee41-4306-8d98-3fd6a14a7469",
   "metadata": {},
   "outputs": [
    {
     "data": {
      "text/plain": [
       "1"
      ]
     },
     "execution_count": 4,
     "metadata": {},
     "output_type": "execute_result"
    }
   ],
   "source": [
    "# Read employee data\n",
    "\n",
    "emp_schema = \"employee_id string, department_id string, name string, age string, gender string, salary string, hire_date string\"\n",
    "\n",
    "emp = spark.read.format(\"csv\").option(\"header\", True).schema(emp_schema).load(\"data/emp.csv\")\n",
    "\n",
    "emp.rdd.getNumPartitions()"
   ]
  },
  {
   "cell_type": "code",
   "execution_count": 5,
   "id": "5501124d-3d04-4bc5-8f46-edd684e2c11c",
   "metadata": {},
   "outputs": [],
   "source": [
    "# Create a function to generate 10% of Salary as Bonus\n",
    "\n",
    "def bonus(salary):\n",
    "    return int(salary) * 0.1"
   ]
  },
  {
   "cell_type": "code",
   "execution_count": 6,
   "id": "e2486a21-b557-4d40-82fa-c96b069edd7d",
   "metadata": {},
   "outputs": [],
   "source": [
    "from pyspark.sql.functions import udf"
   ]
  },
  {
   "cell_type": "code",
   "execution_count": 7,
   "id": "d7508d69-7cf0-44d0-995d-7d542e846f20",
   "metadata": {},
   "outputs": [
    {
     "data": {
      "text/plain": [
       "<function __main__.bonus(salary)>"
      ]
     },
     "execution_count": 7,
     "metadata": {},
     "output_type": "execute_result"
    }
   ],
   "source": [
    "bonus_udf = udf(bonus)\n",
    "spark.udf.register(\"bonus_sql_udf\", bonus, \"double\")"
   ]
  },
  {
   "cell_type": "code",
   "execution_count": 8,
   "id": "98c6275a-3aa9-4b2e-9ac7-f765d4a046f1",
   "metadata": {},
   "outputs": [
    {
     "name": "stderr",
     "output_type": "stream",
     "text": [
      "                                                                                "
     ]
    },
    {
     "name": "stdout",
     "output_type": "stream",
     "text": [
      "+-----------+-------------+-------------+---+------+------+----------+------+\n",
      "|employee_id|department_id|         name|age|gender|salary| hire_date| bonus|\n",
      "+-----------+-------------+-------------+---+------+------+----------+------+\n",
      "|        001|          101|     John Doe| 30|  Male| 50000|2015-01-01|5000.0|\n",
      "|        002|          101|   Jane Smith| 25|Female| 45000|2016-02-15|4500.0|\n",
      "|        003|          102|    Bob Brown| 35|  Male| 55000|2014-05-01|5500.0|\n",
      "|        004|          102|    Alice Lee| 28|Female| 48000|2017-09-30|4800.0|\n",
      "|        005|          103|    Jack Chan| 40|  Male| 60000|2013-04-01|6000.0|\n",
      "|        006|          103|    Jill Wong| 32|Female| 52000|2018-07-01|5200.0|\n",
      "|        007|          101|James Johnson| 42|  Male| 70000|2012-03-15|7000.0|\n",
      "|        008|          102|     Kate Kim| 29|Female| 51000|2019-10-01|5100.0|\n",
      "|        009|          103|      Tom Tan| 33|  Male| 58000|2016-06-01|5800.0|\n",
      "|        010|          104|     Lisa Lee| 27|Female| 47000|2018-08-01|4700.0|\n",
      "|        011|          104|   David Park| 38|  Male| 65000|2015-11-01|6500.0|\n",
      "|        012|          105|   Susan Chen| 31|Female| 54000|2017-02-15|5400.0|\n",
      "|        013|          106|    Brian Kim| 45|  Male| 75000|2011-07-01|7500.0|\n",
      "|        014|          107|    Emily Lee| 26|Female| 46000|2019-01-01|4600.0|\n",
      "|        015|          106|  Michael Lee| 37|  Male| 63000|2014-09-30|6300.0|\n",
      "|        016|          107|  Kelly Zhang| 30|Female| 49000|2018-04-01|4900.0|\n",
      "|        017|          105|  George Wang| 34|  Male| 57000|2016-03-15|5700.0|\n",
      "|        018|          104|    Nancy Liu| 29|Female| 50000|2017-06-01|5000.0|\n",
      "|        019|          103|  Steven Chen| 36|  Male| 62000|2015-08-01|6200.0|\n",
      "|        020|          102|    Grace Kim| 32|Female| 53000|2018-11-01|5300.0|\n",
      "+-----------+-------------+-------------+---+------+------+----------+------+\n",
      "\n"
     ]
    }
   ],
   "source": [
    "# Create new column as bonus using UDF\n",
    "from pyspark.sql.functions import expr\n",
    "\n",
    "emp.withColumn(\"bonus\", expr(\"bonus_sql_udf(salary)\")).show()"
   ]
  },
  {
   "cell_type": "markdown",
   "id": "fba4b168-20f3-4608-9166-1edae50cb311",
   "metadata": {},
   "source": [
    "UDFs take lot of time to deserialize as seen in the UI"
   ]
  },
  {
   "cell_type": "code",
   "execution_count": 9,
   "id": "8ea04f9c-bbf9-4221-a1f8-f3964261fd3d",
   "metadata": {},
   "outputs": [],
   "source": [
    "spark.stop()"
   ]
  },
  {
   "cell_type": "code",
   "execution_count": null,
   "id": "0f952230-d454-46e9-970d-7ef0d1cd4eea",
   "metadata": {},
   "outputs": [],
   "source": []
  }
 ],
 "metadata": {
  "kernelspec": {
   "display_name": "Python 3 (ipykernel)",
   "language": "python",
   "name": "python3"
  },
  "language_info": {
   "codemirror_mode": {
    "name": "ipython",
    "version": 3
   },
   "file_extension": ".py",
   "mimetype": "text/x-python",
   "name": "python",
   "nbconvert_exporter": "python",
   "pygments_lexer": "ipython3",
   "version": "3.12.3"
  }
 },
 "nbformat": 4,
 "nbformat_minor": 5
}
