{
 "cells": [
  {
   "cell_type": "code",
   "execution_count": 1,
   "id": "fb768fa2-dcb2-41cf-bf8b-714b6b13c908",
   "metadata": {},
   "outputs": [
    {
     "name": "stderr",
     "output_type": "stream",
     "text": [
      "Setting default log level to \"WARN\".\n",
      "To adjust logging level use sc.setLogLevel(newLevel). For SparkR, use setLogLevel(newLevel).\n",
      "25/02/22 00:53:45 WARN NativeCodeLoader: Unable to load native-hadoop library for your platform... using builtin-java classes where applicable\n"
     ]
    },
    {
     "data": {
      "text/html": [
       "\n",
       "            <div>\n",
       "                <p><b>SparkSession - in-memory</b></p>\n",
       "                \n",
       "        <div>\n",
       "            <p><b>SparkContext</b></p>\n",
       "\n",
       "            <p><a href=\"http://ip-172-31-20-231.ec2.internal:4040\">Spark UI</a></p>\n",
       "\n",
       "            <dl>\n",
       "              <dt>Version</dt>\n",
       "                <dd><code>v3.5.4</code></dd>\n",
       "              <dt>Master</dt>\n",
       "                <dd><code>local[*]</code></dd>\n",
       "              <dt>AppName</dt>\n",
       "                <dd><code>Distributed Shared Variables</code></dd>\n",
       "            </dl>\n",
       "        </div>\n",
       "        \n",
       "            </div>\n",
       "        "
      ],
      "text/plain": [
       "<pyspark.sql.session.SparkSession at 0x79215fffed80>"
      ]
     },
     "execution_count": 1,
     "metadata": {},
     "output_type": "execute_result"
    }
   ],
   "source": [
    "# Spark Session\n",
    "from pyspark.sql import SparkSession\n",
    "\n",
    "spark = (\n",
    "    SparkSession\n",
    "    .builder\n",
    "    .appName(\"Distributed Shared Variables\")\n",
    "    .master(\"local[*]\")\n",
    "    .config(\"spark.cores.max\", 16)\n",
    "    .config(\"spark.executor.cores\", 4)\n",
    "    .config(\"spark.executor.memory\", \"512M\")\n",
    "    .getOrCreate()\n",
    ")\n",
    "\n",
    "spark"
   ]
  },
  {
   "cell_type": "markdown",
   "id": "10a17ca2-0b78-4a77-b893-e652ace2dcf4",
   "metadata": {},
   "source": [
    "In Spark, data is distributed across a cluster and processed in parallel. This means that each node in the cluster works on a separate partition of the data. However, certain operations may require sharing data among all nodes. Shared variables in Spark allow for efficient data sharing and ensure consistency across nodes. There are two types of shared variables in PySpark: Broadcast variables and Accumulators."
   ]
  },
  {
   "cell_type": "markdown",
   "id": "a2cf32a6-ea4c-4700-b645-2e957000f942",
   "metadata": {},
   "source": [
    "Broadcast variables are read-only variables that are cached on each worker node in a Spark cluster, allowing tasks running on those nodes to access the same shared data without the need for communication overhead. They are particularly useful when you have a large read-only dataset, such as a lookup table, that you want to use across multiple tasks."
   ]
  },
  {
   "cell_type": "code",
   "execution_count": 2,
   "id": "79f971ee-56de-4ee3-9162-8025dc3abd78",
   "metadata": {},
   "outputs": [],
   "source": [
    "lookup_data = {\"apple\": 1, \"banana\": 2, \"orange\": 3} \n",
    "broadcast_lookup = spark.sparkContext.broadcast(lookup_data)"
   ]
  },
  {
   "cell_type": "code",
   "execution_count": 3,
   "id": "d9e41b1f-4516-4a25-b43d-23f7d4184087",
   "metadata": {},
   "outputs": [],
   "source": [
    "data = [(\"apple\", 3), (\"banana\", 5), (\"orange\", 2)] \n",
    "data_rdd = spark.sparkContext.parallelize(data) \n",
    "\n",
    "def calculate_total_cost(item, count, lookup): \n",
    "    return count * lookup[item] \n",
    "    \n",
    "total_cost_rdd = data_rdd.map(lambda x: calculate_total_cost(x[0], x[1], broadcast_lookup.value)) "
   ]
  },
  {
   "cell_type": "code",
   "execution_count": 4,
   "id": "3f083276-7e02-436f-a50b-a26e929070fb",
   "metadata": {},
   "outputs": [
    {
     "name": "stderr",
     "output_type": "stream",
     "text": [
      "                                                                                "
     ]
    },
    {
     "data": {
      "text/plain": [
       "[3, 10, 6]"
      ]
     },
     "execution_count": 4,
     "metadata": {},
     "output_type": "execute_result"
    }
   ],
   "source": [
    "total_cost_rdd.collect()"
   ]
  },
  {
   "cell_type": "code",
   "execution_count": 5,
   "id": "1557cf65-394d-40af-8380-27a3640fd9b0",
   "metadata": {},
   "outputs": [],
   "source": [
    "_schema = \"first_name string, last_name string, job_title string, dob string, email string, phone string, salary double, department_id int\"\n",
    "\n",
    "emp = spark.read.format(\"csv\").schema(_schema).option(\"header\", True).load(\"data/employee_records.csv\")"
   ]
  },
  {
   "cell_type": "code",
   "execution_count": 6,
   "id": "92d570d1-0322-4d09-858d-439f20138bfb",
   "metadata": {},
   "outputs": [
    {
     "name": "stdout",
     "output_type": "stream",
     "text": [
      "+----------+----------+----------------------------------+----------+----------------------------+---------------------+--------+-------------+\n",
      "|first_name|last_name |job_title                         |dob       |email                       |phone                |salary  |department_id|\n",
      "+----------+----------+----------------------------------+----------+----------------------------+---------------------+--------+-------------+\n",
      "|Richard   |Morrison  |Public relations account executive|1973-05-05|melissagarcia@example.org   |(699)525-4827        |512653.0|8            |\n",
      "|Bobby     |Mccarthy  |Barrister's clerk                 |1974-04-25|llara@example.net           |(750)846-1602x7458   |999836.0|7            |\n",
      "|Dennis    |Norman    |Land/geomatics surveyor           |1990-06-24|jturner@example.net         |873.820.0518x825     |131900.0|10           |\n",
      "|John      |Monroe    |Retail buyer                      |1968-06-16|erik33@example.net          |820-813-0557x624     |485506.0|1            |\n",
      "|Michelle  |Elliott   |Air cabin crew                    |1975-03-31|tiffanyjohnston@example.net |(705)900-5337        |604738.0|8            |\n",
      "|Ashley    |Montoya   |Cartographer                      |1976-01-16|patrickalexandra@example.org|211.440.5466         |483339.0|6            |\n",
      "|Nathaniel |Smith     |Quality manager                   |1985-06-28|lori44@example.net          |936-403-3179         |419644.0|7            |\n",
      "|Faith     |Cummings  |Industrial/product designer       |1978-07-01|ygordon@example.org         |(889)246-5588        |205939.0|7            |\n",
      "|Margaret  |Sutton    |Administrator, education          |1975-08-16|diana44@example.net         |001-647-530-5036x7523|671167.0|8            |\n",
      "|Mary      |Sutton    |Freight forwarder                 |1979-12-28|ryan36@example.com          |422.562.7254x3159    |993829.0|7            |\n",
      "|Jake      |King      |Lexicographer                     |1994-07-11|monica93@example.org        |+1-535-652-9715x66854|702101.0|4            |\n",
      "|Heather   |Haley     |Music tutor                       |1981-06-01|stephanie65@example.net     |(652)815-7973x298    |570960.0|6            |\n",
      "|Thomas    |Thomas    |Chartered management accountant   |2001-07-17|pwilliams@example.com       |001-245-848-0028x5105|339441.0|6            |\n",
      "|Leonard   |Carlson   |Art therapist                     |1990-10-18|gabrielmurray@example.com   |9247590563           |469728.0|8            |\n",
      "|Mark      |Wood      |Market researcher                 |1963-10-13|nicholas76@example.com      |311.439.1606x3342    |582291.0|4            |\n",
      "|Tracey    |Washington|Travel agency manager             |1986-05-07|mark07@example.com          |001-912-206-6456     |146456.0|4            |\n",
      "|Rachael   |Rodriguez |Media buyer                       |1966-12-02|griffinmary@example.org     |+1-791-344-7586x548  |544732.0|1            |\n",
      "|Tara      |Liu       |Financial adviser                 |1998-10-12|alexandraobrien@example.org |216.696.6061         |399503.0|3            |\n",
      "|Ana       |Joseph    |Retail manager                    |1995-01-10|rmorse@example.org          |(726)363-7526x9965   |761988.0|10           |\n",
      "|Richard   |Hall      |Engineer, civil (contracting)     |1967-03-02|brandoncardenas@example.com |(964)451-9007x22496  |660659.0|4            |\n",
      "+----------+----------+----------------------------------+----------+----------------------------+---------------------+--------+-------------+\n",
      "only showing top 20 rows\n",
      "\n"
     ]
    }
   ],
   "source": [
    "emp.show(truncate = False)"
   ]
  },
  {
   "cell_type": "code",
   "execution_count": 7,
   "id": "8c659ff9-9f3f-4c80-9cbb-94a732e196f7",
   "metadata": {},
   "outputs": [],
   "source": [
    "# Variable (Lookup)\n",
    "dept_names = {1 : 'Department 1', \n",
    "              2 : 'Department 2', \n",
    "              3 : 'Department 3', \n",
    "              4 : 'Department 4',\n",
    "              5 : 'Department 5', \n",
    "              6 : 'Department 6', \n",
    "              7 : 'Department 7', \n",
    "              8 : 'Department 8', \n",
    "              9 : 'Department 9', \n",
    "              10 : 'Department 10'}"
   ]
  },
  {
   "cell_type": "code",
   "execution_count": 8,
   "id": "8b2db9e3-3665-49ac-aaca-11960e328d9c",
   "metadata": {},
   "outputs": [],
   "source": [
    "# Broadcast the variable\n",
    "\n",
    "broadcast_dept_names = spark.sparkContext.broadcast(dept_names)"
   ]
  },
  {
   "cell_type": "code",
   "execution_count": 9,
   "id": "df062674-d91f-4825-9c2c-17748196e320",
   "metadata": {},
   "outputs": [
    {
     "data": {
      "text/plain": [
       "{1: 'Department 1',\n",
       " 2: 'Department 2',\n",
       " 3: 'Department 3',\n",
       " 4: 'Department 4',\n",
       " 5: 'Department 5',\n",
       " 6: 'Department 6',\n",
       " 7: 'Department 7',\n",
       " 8: 'Department 8',\n",
       " 9: 'Department 9',\n",
       " 10: 'Department 10'}"
      ]
     },
     "execution_count": 9,
     "metadata": {},
     "output_type": "execute_result"
    }
   ],
   "source": [
    "broadcast_dept_names.value"
   ]
  },
  {
   "cell_type": "code",
   "execution_count": 10,
   "id": "5bc9d9a9-0d5d-4ec6-881e-47329cc6c81b",
   "metadata": {},
   "outputs": [],
   "source": [
    "from pyspark.sql.functions import udf,col\n",
    "\n",
    "@udf\n",
    "def get_dept_name(dept_id):\n",
    "    return broadcast_dept_names.value.get(dept_id)"
   ]
  },
  {
   "cell_type": "code",
   "execution_count": 11,
   "id": "8b721238-788b-4d67-ad5a-4e203163e361",
   "metadata": {},
   "outputs": [],
   "source": [
    "emp_final = emp.withColumn(\"dept_name\",get_dept_name(col(\"department_id\")))"
   ]
  },
  {
   "cell_type": "code",
   "execution_count": 13,
   "id": "4c6a8f97-7d73-4c1a-abc4-77e3b457ab67",
   "metadata": {},
   "outputs": [
    {
     "name": "stdout",
     "output_type": "stream",
     "text": [
      "+----------+----------+--------------------+----------+--------------------+--------------------+--------+-------------+-------------+\n",
      "|first_name| last_name|           job_title|       dob|               email|               phone|  salary|department_id|    dept_name|\n",
      "+----------+----------+--------------------+----------+--------------------+--------------------+--------+-------------+-------------+\n",
      "|   Richard|  Morrison|Public relations ...|1973-05-05|melissagarcia@exa...|       (699)525-4827|512653.0|            8| Department 8|\n",
      "|     Bobby|  Mccarthy|   Barrister's clerk|1974-04-25|   llara@example.net|  (750)846-1602x7458|999836.0|            7| Department 7|\n",
      "|    Dennis|    Norman|Land/geomatics su...|1990-06-24| jturner@example.net|    873.820.0518x825|131900.0|           10|Department 10|\n",
      "|      John|    Monroe|        Retail buyer|1968-06-16|  erik33@example.net|    820-813-0557x624|485506.0|            1| Department 1|\n",
      "|  Michelle|   Elliott|      Air cabin crew|1975-03-31|tiffanyjohnston@e...|       (705)900-5337|604738.0|            8| Department 8|\n",
      "|    Ashley|   Montoya|        Cartographer|1976-01-16|patrickalexandra@...|        211.440.5466|483339.0|            6| Department 6|\n",
      "| Nathaniel|     Smith|     Quality manager|1985-06-28|  lori44@example.net|        936-403-3179|419644.0|            7| Department 7|\n",
      "|     Faith|  Cummings|Industrial/produc...|1978-07-01| ygordon@example.org|       (889)246-5588|205939.0|            7| Department 7|\n",
      "|  Margaret|    Sutton|Administrator, ed...|1975-08-16| diana44@example.net|001-647-530-5036x...|671167.0|            8| Department 8|\n",
      "|      Mary|    Sutton|   Freight forwarder|1979-12-28|  ryan36@example.com|   422.562.7254x3159|993829.0|            7| Department 7|\n",
      "|      Jake|      King|       Lexicographer|1994-07-11|monica93@example.org|+1-535-652-9715x6...|702101.0|            4| Department 4|\n",
      "|   Heather|     Haley|         Music tutor|1981-06-01|stephanie65@examp...|   (652)815-7973x298|570960.0|            6| Department 6|\n",
      "|    Thomas|    Thomas|Chartered managem...|2001-07-17|pwilliams@example...|001-245-848-0028x...|339441.0|            6| Department 6|\n",
      "|   Leonard|   Carlson|       Art therapist|1990-10-18|gabrielmurray@exa...|          9247590563|469728.0|            8| Department 8|\n",
      "|      Mark|      Wood|   Market researcher|1963-10-13|nicholas76@exampl...|   311.439.1606x3342|582291.0|            4| Department 4|\n",
      "|    Tracey|Washington|Travel agency man...|1986-05-07|  mark07@example.com|    001-912-206-6456|146456.0|            4| Department 4|\n",
      "|   Rachael| Rodriguez|         Media buyer|1966-12-02|griffinmary@examp...| +1-791-344-7586x548|544732.0|            1| Department 1|\n",
      "|      Tara|       Liu|   Financial adviser|1998-10-12|alexandraobrien@e...|        216.696.6061|399503.0|            3| Department 3|\n",
      "|       Ana|    Joseph|      Retail manager|1995-01-10|  rmorse@example.org|  (726)363-7526x9965|761988.0|           10|Department 10|\n",
      "|   Richard|      Hall|Engineer, civil (...|1967-03-02|brandoncardenas@e...| (964)451-9007x22496|660659.0|            4| Department 4|\n",
      "+----------+----------+--------------------+----------+--------------------+--------------------+--------+-------------+-------------+\n",
      "only showing top 20 rows\n",
      "\n"
     ]
    }
   ],
   "source": [
    "emp_final.show()"
   ]
  },
  {
   "cell_type": "markdown",
   "id": "27f0ec7c-ea12-4290-9b49-b1a254049957",
   "metadata": {},
   "source": [
    "Observe that even though we have a join (shuffle transformation) it is not being shuffled here as seen in the DAG"
   ]
  },
  {
   "cell_type": "markdown",
   "id": "15184482-6132-4aba-8ed9-fe90283b7854",
   "metadata": {},
   "source": [
    "### Accumulators"
   ]
  },
  {
   "cell_type": "markdown",
   "id": "57cbd481-ac3d-4112-8801-958159aa0f47",
   "metadata": {},
   "source": [
    "- When we need to do some complex transformations, there would be partitions of data lying on each of the executors and this data needs to be collected in one of them and aggregation needs to be done.\n",
    "\n",
    "- This involves shuffling of data that is not recommended from performance perspective.\n",
    "\n",
    "- Hence we can use Accumulators that can do row by row parsing of data in the partitions of each executor and return the data"
   ]
  },
  {
   "cell_type": "code",
   "execution_count": 16,
   "id": "12db1264-3e1a-4da4-8392-0bf2c15d16fe",
   "metadata": {},
   "outputs": [],
   "source": [
    "# Accumulators\n",
    "dept_sal = spark.sparkContext.accumulator(0)"
   ]
  },
  {
   "cell_type": "code",
   "execution_count": 17,
   "id": "b060ee03-d8ce-4da6-9d40-b28e1d627176",
   "metadata": {},
   "outputs": [
    {
     "name": "stderr",
     "output_type": "stream",
     "text": [
      "                                                                                "
     ]
    }
   ],
   "source": [
    "# Use foreach\n",
    "\n",
    "def calculate_salary(department_id, salary):\n",
    "    if department_id == 6:\n",
    "        dept_sal.add(salary)\n",
    "\n",
    "emp.foreach(lambda row : calculate_salary(row.department_id, row.salary))"
   ]
  },
  {
   "cell_type": "markdown",
   "id": "f89eb5d3-206d-4cfb-9f61-22147d5f6385",
   "metadata": {},
   "source": [
    "Observe that in the DAG we get the output in the same stage and there is no shuffling"
   ]
  },
  {
   "cell_type": "code",
   "execution_count": 19,
   "id": "42676f1c-5b17-4935-8b3e-6441212442b3",
   "metadata": {},
   "outputs": [
    {
     "data": {
      "text/plain": [
       "50294510721.0"
      ]
     },
     "execution_count": 19,
     "metadata": {},
     "output_type": "execute_result"
    }
   ],
   "source": [
    "dept_sal.value"
   ]
  },
  {
   "cell_type": "code",
   "execution_count": null,
   "id": "7b5837ee-e879-4191-b1fb-da0ce9775b89",
   "metadata": {},
   "outputs": [],
   "source": []
  }
 ],
 "metadata": {
  "kernelspec": {
   "display_name": "Python 3 (ipykernel)",
   "language": "python",
   "name": "python3"
  },
  "language_info": {
   "codemirror_mode": {
    "name": "ipython",
    "version": 3
   },
   "file_extension": ".py",
   "mimetype": "text/x-python",
   "name": "python",
   "nbconvert_exporter": "python",
   "pygments_lexer": "ipython3",
   "version": "3.12.3"
  }
 },
 "nbformat": 4,
 "nbformat_minor": 5
}
