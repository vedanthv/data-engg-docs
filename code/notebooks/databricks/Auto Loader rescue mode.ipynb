{
 "cells": [
  {
   "cell_type": "code",
   "execution_count": 0,
   "metadata": {
    "application/vnd.databricks.v1+cell": {
     "cellMetadata": {
      "byteLimit": 2048000,
      "rowLimit": 10000
     },
     "inputWidgets": {},
     "nuid": "e01393bd-a8cd-4f0b-84a4-635370aec8e5",
     "showTitle": false,
     "tableResultSettingsMap": {},
     "title": ""
    }
   },
   "outputs": [],
   "source": [
    "%python\n",
    "# DBFS paths (change as needed)\n",
    "input_path   = \"dbfs:/tmp/autoloader_demo/input\"\n",
    "schema_loc   = \"dbfs:/tmp/autoloader_demo/_schemas\"     # Auto Loader schema metadata\n",
    "checkpoint   = \"dbfs:/tmp/autoloader_demo/_checkpoint\"\n",
    "delta_target = \"dbfs:/tmp/autoloader_demo/bronze_delta\""
   ]
  },
  {
   "cell_type": "code",
   "execution_count": 0,
   "metadata": {
    "application/vnd.databricks.v1+cell": {
     "cellMetadata": {
      "byteLimit": 2048000,
      "rowLimit": 10000
     },
     "inputWidgets": {},
     "nuid": "158af946-b6be-435f-a81d-99c6f5c636b3",
     "showTitle": false,
     "tableResultSettingsMap": {},
     "title": ""
    }
   },
   "outputs": [
    {
     "output_type": "stream",
     "name": "stdout",
     "output_type": "stream",
     "text": [
      "Wrote 38 bytes.\nWrote 64 bytes.\nWrote 54 bytes.\nWrote 37 bytes.\n"
     ]
    },
    {
     "output_type": "execute_result",
     "data": {
      "text/plain": [
       "True"
      ]
     },
     "execution_count": 10,
     "metadata": {},
     "output_type": "execute_result"
    }
   ],
   "source": [
    "%python\n",
    "# (Databricks) create directory & write example JSON files\n",
    "dbutils.fs.rm(input_path, recurse=True)  # cleanup for demo (optional)\n",
    "dbutils.fs.mkdirs(input_path)\n",
    "\n",
    "# 1) original file (matches expected schema)\n",
    "dbutils.fs.put(f\"{input_path}/file1.json\",\n",
    "               '{\"id\": 1, \"name\": \"Alice\", \"age\": 30}\\n', True)\n",
    "\n",
    "# 2) new column appears later (email) -> should be rescued into _rescued_data\n",
    "dbutils.fs.put(f\"{input_path}/file2.json\",\n",
    "               '{\"id\": 2, \"name\": \"Bob\", \"age\": 25, \"email\": \"bob@example.com\"}\\n', True)\n",
    "\n",
    "# 3) type mismatch (age as non-integer and id as string) -> rescued\n",
    "dbutils.fs.put(f\"{input_path}/file3.json\",\n",
    "               '{\"id\": \"3\", \"name\": \"Charlie\", \"age\": \"not_a_number\"}\\n', True)\n",
    "\n",
    "# 4) case-mismatch field names -> rescued if case-sensitivity triggers it\n",
    "dbutils.fs.put(f\"{input_path}/file4.json\",\n",
    "               '{\"Id\": 4, \"Name\": \"Dave\", \"AGE\": 40}\\n', True)\n"
   ]
  },
  {
   "cell_type": "code",
   "execution_count": 0,
   "metadata": {
    "application/vnd.databricks.v1+cell": {
     "cellMetadata": {
      "byteLimit": 2048000,
      "rowLimit": 10000
     },
     "inputWidgets": {},
     "nuid": "ba1ab231-aa70-490b-b7c6-070c96bacc73",
     "showTitle": false,
     "tableResultSettingsMap": {},
     "title": ""
    }
   },
   "outputs": [
    {
     "output_type": "execute_result",
     "data": {
      "text/plain": [
       "[<pyspark.sql.connect.streaming.query.StreamingQuery at 0xffff08846330>]"
      ]
     },
     "execution_count": 11,
     "metadata": {},
     "output_type": "execute_result"
    }
   ],
   "source": [
    "%python\n",
    "from pyspark.sql.types import StructType, StructField, IntegerType, StringType\n",
    "from pyspark.sql.functions import col, get_json_object\n",
    "\n",
    "expected_schema = StructType([\n",
    "    StructField(\"id\", IntegerType(), True),\n",
    "    StructField(\"name\", StringType(), True),\n",
    "    StructField(\"age\", IntegerType(), True),\n",
    "])\n",
    "\n",
    "# Optional: disable adding filePath into _rescued_data if you don't want it:\n",
    "# spark.conf.set(\"spark.databricks.sql.rescuedDataColumn.filePath.enabled\", \"false\")\n",
    "\n",
    "df = (spark.readStream\n",
    "      .format(\"cloudFiles\")\n",
    "      .schema(expected_schema)                            # you know the base schema\n",
    "      .option(\"cloudFiles.format\", \"json\")\n",
    "      .option(\"cloudFiles.schemaLocation\", schema_loc)   # required for autoloader state\n",
    "      .option(\"cloudFiles.inferColumnTypes\", \"true\")\n",
    "      .option(\"cloudFiles.schemaEvolutionMode\", \"rescue\")     # << rescue mode\n",
    "      .option(\"cloudFiles.rescuedDataColumn\", \"_rescued_data\")# name the rescue column\n",
    "      .load(input_path)\n",
    "     )\n",
    "\n",
    "# write to a delta path (bronze)\n",
    "query = (df.writeStream\n",
    "         .format(\"delta\")\n",
    "         .option(\"checkpointLocation\", checkpoint)\n",
    "         .trigger(availableNow=True)\n",
    "         .outputMode(\"append\")\n",
    "         .start(delta_target))\n",
    "\n",
    "# show streaming query status (optional)\n",
    "spark.streams.active\n"
   ]
  },
  {
   "cell_type": "code",
   "execution_count": 0,
   "metadata": {
    "application/vnd.databricks.v1+cell": {
     "cellMetadata": {
      "byteLimit": 2048000,
      "rowLimit": 10000
     },
     "inputWidgets": {},
     "nuid": "770e3fd9-82eb-42ab-ae61-89b92b53d9f2",
     "showTitle": false,
     "tableResultSettingsMap": {},
     "title": ""
    }
   },
   "outputs": [
    {
     "output_type": "stream",
     "name": "stdout",
     "output_type": "stream",
     "text": [
      "root\n |-- id: integer (nullable = true)\n |-- name: string (nullable = true)\n |-- age: integer (nullable = true)\n |-- _rescued_data: string (nullable = true)\n\n+----+-------+----+-----------------------------------------------------------------------------------------+\n|id  |name   |age |_rescued_data                                                                            |\n+----+-------+----+-----------------------------------------------------------------------------------------+\n|2   |Bob    |25  |{\"email\":\"bob@example.com\",\"_file_path\":\"dbfs:/tmp/autoloader_demo/input/file2.json\"}    |\n|NULL|Charlie|NULL|{\"age\":\"not_a_number\",\"id\":\"3\",\"_file_path\":\"dbfs:/tmp/autoloader_demo/input/file3.json\"}|\n|NULL|NULL   |NULL|{\"Id\":4,\"Name\":\"Dave\",\"AGE\":40,\"_file_path\":\"dbfs:/tmp/autoloader_demo/input/file4.json\"}|\n|1   |Alice  |30  |NULL                                                                                     |\n+----+-------+----+-----------------------------------------------------------------------------------------+\n\n"
     ]
    }
   ],
   "source": [
    "%python\n",
    "bronze = spark.read.format(\"delta\").load(delta_target)\n",
    "bronze.printSchema()\n",
    "bronze.show(truncate=False)"
   ]
  },
  {
   "cell_type": "code",
   "execution_count": 0,
   "metadata": {
    "application/vnd.databricks.v1+cell": {
     "cellMetadata": {
      "byteLimit": 2048000,
      "rowLimit": 10000
     },
     "inputWidgets": {},
     "nuid": "ba95881c-a0a7-4021-bfb0-827e5d09b259",
     "showTitle": false,
     "tableResultSettingsMap": {
      "0": {
       "dataGridStateBlob": "{\"version\":1,\"tableState\":{\"columnPinning\":{\"left\":[\"#row_number#\"],\"right\":[]},\"columnSizing\":{\"_rescued_data\":514},\"columnVisibility\":{}},\"settings\":{\"columns\":{}},\"syncTimestamp\":1756436080893}",
       "filterBlob": null,
       "queryPlanFiltersBlob": null,
       "tableResultIndex": 0
      }
     },
     "title": ""
    }
   },
   "outputs": [
    {
     "output_type": "display_data",
     "data": {
      "text/html": [
       "<style scoped>\n",
       "  .table-result-container {\n",
       "    max-height: 300px;\n",
       "    overflow: auto;\n",
       "  }\n",
       "  table, th, td {\n",
       "    border: 1px solid black;\n",
       "    border-collapse: collapse;\n",
       "  }\n",
       "  th, td {\n",
       "    padding: 5px;\n",
       "  }\n",
       "  th {\n",
       "    text-align: left;\n",
       "  }\n",
       "</style><div class='table-result-container'><table class='table-result'><thead style='background-color: white'><tr><th>id</th><th>name</th><th>age</th><th>_rescued_data</th></tr></thead><tbody><tr><td>2</td><td>Bob</td><td>25</td><td>{\"email\":\"bob@example.com\",\"_file_path\":\"dbfs:/tmp/autoloader_demo/input/file2.json\"}</td></tr><tr><td>null</td><td>Charlie</td><td>null</td><td>{\"age\":\"not_a_number\",\"id\":\"3\",\"_file_path\":\"dbfs:/tmp/autoloader_demo/input/file3.json\"}</td></tr><tr><td>null</td><td>null</td><td>null</td><td>{\"Id\":4,\"Name\":\"Dave\",\"AGE\":40,\"_file_path\":\"dbfs:/tmp/autoloader_demo/input/file4.json\"}</td></tr><tr><td>1</td><td>Alice</td><td>30</td><td>null</td></tr></tbody></table></div>"
      ]
     },
     "metadata": {
      "application/vnd.databricks.v1+output": {
       "addedWidgets": {},
       "aggData": [],
       "aggError": "",
       "aggOverflow": false,
       "aggSchema": [],
       "aggSeriesLimitReached": false,
       "aggType": "",
       "arguments": {},
       "columnCustomDisplayInfos": {},
       "data": [
        [
         2,
         "Bob",
         25,
         "{\"email\":\"bob@example.com\",\"_file_path\":\"dbfs:/tmp/autoloader_demo/input/file2.json\"}"
        ],
        [
         null,
         "Charlie",
         null,
         "{\"age\":\"not_a_number\",\"id\":\"3\",\"_file_path\":\"dbfs:/tmp/autoloader_demo/input/file3.json\"}"
        ],
        [
         null,
         null,
         null,
         "{\"Id\":4,\"Name\":\"Dave\",\"AGE\":40,\"_file_path\":\"dbfs:/tmp/autoloader_demo/input/file4.json\"}"
        ],
        [
         1,
         "Alice",
         30,
         null
        ]
       ],
       "datasetInfos": [],
       "dbfsResultPath": null,
       "isJsonSchema": true,
       "metadata": {},
       "overflow": false,
       "plotOptions": {
        "customPlotOptions": {},
        "displayType": "table",
        "pivotAggregation": null,
        "pivotColumns": null,
        "xColumns": null,
        "yColumns": null
       },
       "removedWidgets": [],
       "schema": [
        {
         "metadata": "{}",
         "name": "id",
         "type": "\"integer\""
        },
        {
         "metadata": "{}",
         "name": "name",
         "type": "\"string\""
        },
        {
         "metadata": "{}",
         "name": "age",
         "type": "\"integer\""
        },
        {
         "metadata": "{}",
         "name": "_rescued_data",
         "type": "\"string\""
        }
       ],
       "type": "table"
      }
     },
     "output_type": "display_data"
    },
    {
     "output_type": "display_data",
     "data": {
      "text/html": [
       "<style scoped>\n",
       "  .table-result-container {\n",
       "    max-height: 300px;\n",
       "    overflow: auto;\n",
       "  }\n",
       "  table, th, td {\n",
       "    border: 1px solid black;\n",
       "    border-collapse: collapse;\n",
       "  }\n",
       "  th, td {\n",
       "    padding: 5px;\n",
       "  }\n",
       "  th {\n",
       "    text-align: left;\n",
       "  }\n",
       "</style><div class='table-result-container'><table class='table-result'><thead style='background-color: white'><tr><th>id</th><th>name</th><th>age</th><th>email_from_rescue</th></tr></thead><tbody><tr><td>2</td><td>Bob</td><td>25</td><td>bob@example.com</td></tr><tr><td>null</td><td>Charlie</td><td>null</td><td>null</td></tr><tr><td>null</td><td>null</td><td>null</td><td>null</td></tr><tr><td>1</td><td>Alice</td><td>30</td><td>null</td></tr></tbody></table></div>"
      ]
     },
     "metadata": {
      "application/vnd.databricks.v1+output": {
       "addedWidgets": {},
       "aggData": [],
       "aggError": "",
       "aggOverflow": false,
       "aggSchema": [],
       "aggSeriesLimitReached": false,
       "aggType": "",
       "arguments": {},
       "columnCustomDisplayInfos": {},
       "data": [
        [
         2,
         "Bob",
         25,
         "bob@example.com"
        ],
        [
         null,
         "Charlie",
         null,
         null
        ],
        [
         null,
         null,
         null,
         null
        ],
        [
         1,
         "Alice",
         30,
         null
        ]
       ],
       "datasetInfos": [],
       "dbfsResultPath": null,
       "isJsonSchema": true,
       "metadata": {},
       "overflow": false,
       "plotOptions": {
        "customPlotOptions": {},
        "displayType": "table",
        "pivotAggregation": null,
        "pivotColumns": null,
        "xColumns": null,
        "yColumns": null
       },
       "removedWidgets": [],
       "schema": [
        {
         "metadata": "{}",
         "name": "id",
         "type": "\"integer\""
        },
        {
         "metadata": "{}",
         "name": "name",
         "type": "\"string\""
        },
        {
         "metadata": "{}",
         "name": "age",
         "type": "\"integer\""
        },
        {
         "metadata": "{}",
         "name": "email_from_rescue",
         "type": "\"string\""
        }
       ],
       "type": "table"
      }
     },
     "output_type": "display_data"
    }
   ],
   "source": [
    "%python\n",
    "# 1) Show the raw rescued column\n",
    "display(\n",
    "    bronze.select(\n",
    "        \"id\",\n",
    "        \"name\",\n",
    "        \"age\",\n",
    "        \"_rescued_data\"\n",
    "    )\n",
    ")\n",
    "\n",
    "# 2) If _rescued_data is a JSON string: extract 'email' (returns NULL if absent)\n",
    "display(\n",
    "    bronze.select(\n",
    "        \"id\",\n",
    "        \"name\",\n",
    "        \"age\",\n",
    "        get_json_object(\n",
    "            col(\"_rescued_data\"),\n",
    "            \"$.email\"\n",
    "        ).alias(\"email_from_rescue\")\n",
    "    )\n",
    ")\n"
   ]
  }
 ],
 "metadata": {
  "application/vnd.databricks.v1+notebook": {
   "computePreferences": null,
   "dashboards": [],
   "environmentMetadata": {
    "base_environment": "",
    "environment_version": "3"
   },
   "inputWidgetPreferences": null,
   "language": "sql",
   "notebookMetadata": {
    "pythonIndentUnit": 4
   },
   "notebookName": "Auto Loader rescue mode",
   "widgets": {}
  },
  "language_info": {
   "name": "sql"
  }
 },
 "nbformat": 4,
 "nbformat_minor": 0
}