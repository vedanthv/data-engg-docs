{
 "cells": [
  {
   "cell_type": "code",
   "execution_count": 5,
   "id": "eb8341e4-c29c-4da5-9c86-b80384fadf9f",
   "metadata": {},
   "outputs": [
    {
     "name": "stdout",
     "output_type": "stream",
     "text": [
      "Requirement already satisfied: pyspark in /home/ubuntu/yes/lib/python3.12/site-packages (3.5.4)\n",
      "Requirement already satisfied: py4j==0.10.9.7 in /home/ubuntu/yes/lib/python3.12/site-packages (from pyspark) (0.10.9.7)\n"
     ]
    }
   ],
   "source": [
    "%%sh\n",
    "pip install pyspark"
   ]
  },
  {
   "cell_type": "code",
   "execution_count": 1,
   "id": "844e88ba-33a8-4625-b0a8-966d338ef8f9",
   "metadata": {},
   "outputs": [
    {
     "name": "stderr",
     "output_type": "stream",
     "text": [
      "Setting default log level to \"WARN\".\n",
      "To adjust logging level use sc.setLogLevel(newLevel). For SparkR, use setLogLevel(newLevel).\n",
      "25/02/15 09:48:13 WARN NativeCodeLoader: Unable to load native-hadoop library for your platform... using builtin-java classes where applicable\n",
      "25/02/15 09:48:14 WARN Utils: Service 'SparkUI' could not bind on port 4040. Attempting port 4041.\n"
     ]
    },
    {
     "data": {
      "text/html": [
       "\n",
       "            <div>\n",
       "                <p><b>SparkSession - in-memory</b></p>\n",
       "                \n",
       "        <div>\n",
       "            <p><b>SparkContext</b></p>\n",
       "\n",
       "            <p><a href=\"http://ip-172-31-20-231.ec2.internal:4041\">Spark UI</a></p>\n",
       "\n",
       "            <dl>\n",
       "              <dt>Version</dt>\n",
       "                <dd><code>v3.5.4</code></dd>\n",
       "              <dt>Master</dt>\n",
       "                <dd><code>local[*]</code></dd>\n",
       "              <dt>AppName</dt>\n",
       "                <dd><code>Working with Strings & Dates</code></dd>\n",
       "            </dl>\n",
       "        </div>\n",
       "        \n",
       "            </div>\n",
       "        "
      ],
      "text/plain": [
       "<pyspark.sql.session.SparkSession at 0x75956b5eb560>"
      ]
     },
     "execution_count": 1,
     "metadata": {},
     "output_type": "execute_result"
    }
   ],
   "source": [
    "# Spark Session\n",
    "from pyspark.sql import SparkSession\n",
    "\n",
    "spark = (\n",
    "    SparkSession\n",
    "    .builder\n",
    "    .appName(\"Working with Strings & Dates\")\n",
    "    .master(\"local[*]\")\n",
    "    .getOrCreate()\n",
    ")\n",
    "\n",
    "spark"
   ]
  },
  {
   "cell_type": "code",
   "execution_count": 2,
   "id": "17a8b977-83d1-4940-bb68-db75b5c9feb1",
   "metadata": {},
   "outputs": [],
   "source": [
    "# Emp Data & Schema\n",
    "\n",
    "emp_data = [\n",
    "    [\"001\",\"101\",\"John Doe\",\"30\",\"Male\",\"50000\",\"2015-01-01\"],\n",
    "    [\"002\",\"101\",\"Jane Smith\",\"25\",\"Female\",\"45000\",\"2016-02-15\"],\n",
    "    [\"003\",\"102\",\"Bob Brown\",\"35\",\"Male\",\"55000\",\"2014-05-01\"],\n",
    "    [\"004\",\"102\",\"Alice Lee\",\"28\",\"Female\",\"48000\",\"2017-09-30\"],\n",
    "    [\"005\",\"103\",\"Jack Chan\",\"40\",\"Male\",\"60000\",\"2013-04-01\"],\n",
    "    [\"006\",\"103\",\"Jill Wong\",\"32\",\"Female\",\"52000\",\"2018-07-01\"],\n",
    "    [\"007\",\"101\",\"James Johnson\",\"42\",\"Male\",\"70000\",\"2012-03-15\"],\n",
    "    [\"008\",\"102\",\"Kate Kim\",\"29\",\"Female\",\"51000\",\"2019-10-01\"],\n",
    "    [\"009\",\"103\",\"Tom Tan\",\"33\",\"Male\",\"58000\",\"2016-06-01\"],\n",
    "    [\"010\",\"104\",\"Lisa Lee\",\"27\",\"Female\",\"47000\",\"2018-08-01\"],\n",
    "    [\"011\",\"104\",\"David Park\",\"38\",\"Male\",\"65000\",\"2015-11-01\"],\n",
    "    [\"012\",\"105\",\"Susan Chen\",\"31\",\"Female\",\"54000\",\"2017-02-15\"],\n",
    "    [\"013\",\"106\",\"Brian Kim\",\"45\",\"Male\",\"75000\",\"2011-07-01\"],\n",
    "    [\"014\",\"107\",\"Emily Lee\",\"26\",\"Female\",\"46000\",\"2019-01-01\"],\n",
    "    [\"015\",\"106\",\"Michael Lee\",\"37\",\"Male\",\"63000\",\"2014-09-30\"],\n",
    "    [\"016\",\"107\",\"Kelly Zhang\",\"30\",\"Female\",\"49000\",\"2018-04-01\"],\n",
    "    [\"017\",\"105\",\"George Wang\",\"34\",\"Male\",\"57000\",\"2016-03-15\"],\n",
    "    [\"018\",\"104\",\"Nancy Liu\",\"29\",\"\",\"50000\",\"2017-06-01\"],\n",
    "    [\"019\",\"103\",\"Steven Chen\",\"36\",\"Male\",\"62000\",\"2015-08-01\"],\n",
    "    [\"020\",\"102\",\"Grace Kim\",\"32\",\"Female\",\"53000\",\"2018-11-01\"]\n",
    "]\n",
    "\n",
    "emp_schema = \"employee_id string, department_id string, name string, age string, gender string, salary string, hire_date string\""
   ]
  },
  {
   "cell_type": "code",
   "execution_count": 6,
   "id": "8ef2fc41-60b9-4940-b8d5-3e6ad5229128",
   "metadata": {},
   "outputs": [],
   "source": [
    "\n",
    "# Create emp DataFrame\n",
    "\n",
    "emp = spark.createDataFrame(data=emp_data, schema=emp_schema)"
   ]
  },
  {
   "cell_type": "code",
   "execution_count": 7,
   "id": "0d5edbea-8574-45a5-a042-402b0674ac46",
   "metadata": {},
   "outputs": [],
   "source": [
    "from pyspark.sql.functions import when, col, expr\n",
    "\n",
    "emp_gender_fixed = emp.withColumn(\"gender\",expr(\"case when gender = 'Male' then 'M' when gender = 'Female' then 'F' else null end\"))"
   ]
  },
  {
   "cell_type": "code",
   "execution_count": 8,
   "id": "288cb301-da52-47ad-81d3-c0215ff17b0e",
   "metadata": {},
   "outputs": [
    {
     "name": "stdout",
     "output_type": "stream",
     "text": [
      "+-----------+-------------+-------------+---+------+------+----------+\n",
      "|employee_id|department_id|         name|age|gender|salary| hire_date|\n",
      "+-----------+-------------+-------------+---+------+------+----------+\n",
      "|        001|          101|     John Doe| 30|     M| 50000|2015-01-01|\n",
      "|        002|          101|   Jane Smith| 25|     F| 45000|2016-02-15|\n",
      "|        003|          102|    Bob Brown| 35|     M| 55000|2014-05-01|\n",
      "|        004|          102|    Alice Lee| 28|     F| 48000|2017-09-30|\n",
      "|        005|          103|    Jack Chan| 40|     M| 60000|2013-04-01|\n",
      "|        006|          103|    Jill Wong| 32|     F| 52000|2018-07-01|\n",
      "|        007|          101|James Johnson| 42|     M| 70000|2012-03-15|\n",
      "|        008|          102|     Kate Kim| 29|     F| 51000|2019-10-01|\n",
      "|        009|          103|      Tom Tan| 33|     M| 58000|2016-06-01|\n",
      "|        010|          104|     Lisa Lee| 27|     F| 47000|2018-08-01|\n",
      "|        011|          104|   David Park| 38|     M| 65000|2015-11-01|\n",
      "|        012|          105|   Susan Chen| 31|     F| 54000|2017-02-15|\n",
      "|        013|          106|    Brian Kim| 45|     M| 75000|2011-07-01|\n",
      "|        014|          107|    Emily Lee| 26|     F| 46000|2019-01-01|\n",
      "|        015|          106|  Michael Lee| 37|     M| 63000|2014-09-30|\n",
      "|        016|          107|  Kelly Zhang| 30|     F| 49000|2018-04-01|\n",
      "|        017|          105|  George Wang| 34|     M| 57000|2016-03-15|\n",
      "|        018|          104|    Nancy Liu| 29|  NULL| 50000|2017-06-01|\n",
      "|        019|          103|  Steven Chen| 36|     M| 62000|2015-08-01|\n",
      "|        020|          102|    Grace Kim| 32|     F| 53000|2018-11-01|\n",
      "+-----------+-------------+-------------+---+------+------+----------+\n",
      "\n"
     ]
    }
   ],
   "source": [
    "emp_gender_fixed.show()"
   ]
  },
  {
   "cell_type": "code",
   "execution_count": 10,
   "id": "45601192-e12d-48bd-9baa-bcc165a05cd6",
   "metadata": {},
   "outputs": [],
   "source": [
    "from pyspark.sql.functions import regexp_replace\n",
    "\n",
    "emp_name_fixed = emp_gender_fixed.withColumn(\"new_name\", regexp_replace(col(\"name\"), \"J\", \"Z\"))"
   ]
  },
  {
   "cell_type": "code",
   "execution_count": 11,
   "id": "8cac5b1a-69c0-470c-aba2-dceb25964846",
   "metadata": {},
   "outputs": [],
   "source": [
    "# Convert Date\n",
    "# select *,  to_date(hire_date, 'YYYY-MM-DD') as hire_date from emp_name_fixed\n",
    "from pyspark.sql.functions import to_date\n",
    "\n",
    "emp_date_fix = emp_name_fixed.withColumn(\"hire_date\", to_date(col(\"hire_date\"), 'yyyy-MM-dd'))"
   ]
  },
  {
   "cell_type": "code",
   "execution_count": 12,
   "id": "44f8985b-83de-405e-b6c1-04ddfc117d06",
   "metadata": {},
   "outputs": [
    {
     "name": "stdout",
     "output_type": "stream",
     "text": [
      "root\n",
      " |-- employee_id: string (nullable = true)\n",
      " |-- department_id: string (nullable = true)\n",
      " |-- name: string (nullable = true)\n",
      " |-- age: string (nullable = true)\n",
      " |-- gender: string (nullable = true)\n",
      " |-- salary: string (nullable = true)\n",
      " |-- hire_date: date (nullable = true)\n",
      " |-- new_name: string (nullable = true)\n",
      "\n"
     ]
    }
   ],
   "source": [
    "emp_date_fix.printSchema()"
   ]
  },
  {
   "cell_type": "code",
   "execution_count": 13,
   "id": "cbcefc39-1841-455d-9beb-602eabaccce0",
   "metadata": {},
   "outputs": [],
   "source": [
    "# Add Date Columns\n",
    "# Add current_date, current_timestamp, extract year from hire_date\n",
    "from pyspark.sql.functions import current_date, current_timestamp\n",
    "\n",
    "emp_dated = emp_date_fix.withColumn(\"date_now\", current_date()).withColumn(\"timestamp_now\", current_timestamp())"
   ]
  },
  {
   "cell_type": "code",
   "execution_count": 14,
   "id": "9346d1c8-b7a6-4a40-9bc6-2c235ae95a73",
   "metadata": {},
   "outputs": [
    {
     "name": "stdout",
     "output_type": "stream",
     "text": [
      "+-----------+-------------+-------------+---+------+------+----------+-------------+----------+-----------------------+\n",
      "|employee_id|department_id|name         |age|gender|salary|hire_date |new_name     |date_now  |timestamp_now          |\n",
      "+-----------+-------------+-------------+---+------+------+----------+-------------+----------+-----------------------+\n",
      "|001        |101          |John Doe     |30 |M     |50000 |2015-01-01|Zohn Doe     |2025-02-15|2025-02-15 09:50:17.729|\n",
      "|002        |101          |Jane Smith   |25 |F     |45000 |2016-02-15|Zane Smith   |2025-02-15|2025-02-15 09:50:17.729|\n",
      "|003        |102          |Bob Brown    |35 |M     |55000 |2014-05-01|Bob Brown    |2025-02-15|2025-02-15 09:50:17.729|\n",
      "|004        |102          |Alice Lee    |28 |F     |48000 |2017-09-30|Alice Lee    |2025-02-15|2025-02-15 09:50:17.729|\n",
      "|005        |103          |Jack Chan    |40 |M     |60000 |2013-04-01|Zack Chan    |2025-02-15|2025-02-15 09:50:17.729|\n",
      "|006        |103          |Jill Wong    |32 |F     |52000 |2018-07-01|Zill Wong    |2025-02-15|2025-02-15 09:50:17.729|\n",
      "|007        |101          |James Johnson|42 |M     |70000 |2012-03-15|Zames Zohnson|2025-02-15|2025-02-15 09:50:17.729|\n",
      "|008        |102          |Kate Kim     |29 |F     |51000 |2019-10-01|Kate Kim     |2025-02-15|2025-02-15 09:50:17.729|\n",
      "|009        |103          |Tom Tan      |33 |M     |58000 |2016-06-01|Tom Tan      |2025-02-15|2025-02-15 09:50:17.729|\n",
      "|010        |104          |Lisa Lee     |27 |F     |47000 |2018-08-01|Lisa Lee     |2025-02-15|2025-02-15 09:50:17.729|\n",
      "|011        |104          |David Park   |38 |M     |65000 |2015-11-01|David Park   |2025-02-15|2025-02-15 09:50:17.729|\n",
      "|012        |105          |Susan Chen   |31 |F     |54000 |2017-02-15|Susan Chen   |2025-02-15|2025-02-15 09:50:17.729|\n",
      "|013        |106          |Brian Kim    |45 |M     |75000 |2011-07-01|Brian Kim    |2025-02-15|2025-02-15 09:50:17.729|\n",
      "|014        |107          |Emily Lee    |26 |F     |46000 |2019-01-01|Emily Lee    |2025-02-15|2025-02-15 09:50:17.729|\n",
      "|015        |106          |Michael Lee  |37 |M     |63000 |2014-09-30|Michael Lee  |2025-02-15|2025-02-15 09:50:17.729|\n",
      "|016        |107          |Kelly Zhang  |30 |F     |49000 |2018-04-01|Kelly Zhang  |2025-02-15|2025-02-15 09:50:17.729|\n",
      "|017        |105          |George Wang  |34 |M     |57000 |2016-03-15|George Wang  |2025-02-15|2025-02-15 09:50:17.729|\n",
      "|018        |104          |Nancy Liu    |29 |NULL  |50000 |2017-06-01|Nancy Liu    |2025-02-15|2025-02-15 09:50:17.729|\n",
      "|019        |103          |Steven Chen  |36 |M     |62000 |2015-08-01|Steven Chen  |2025-02-15|2025-02-15 09:50:17.729|\n",
      "|020        |102          |Grace Kim    |32 |F     |53000 |2018-11-01|Grace Kim    |2025-02-15|2025-02-15 09:50:17.729|\n",
      "+-----------+-------------+-------------+---+------+------+----------+-------------+----------+-----------------------+\n",
      "\n"
     ]
    }
   ],
   "source": [
    "emp_dated.show(truncate=False)\n"
   ]
  },
  {
   "cell_type": "code",
   "execution_count": 15,
   "id": "c4dba4dc-151a-4a97-8a9d-71fbb1d343b9",
   "metadata": {},
   "outputs": [],
   "source": [
    "# Drop Null gender records\n",
    "emp_1 = emp_dated.na.drop()"
   ]
  },
  {
   "cell_type": "code",
   "execution_count": 16,
   "id": "671c16a3-3252-4668-9976-71ad029c77d3",
   "metadata": {},
   "outputs": [
    {
     "name": "stdout",
     "output_type": "stream",
     "text": [
      "+-----------+-------------+-------------+---+------+------+----------+-------------+----------+--------------------+\n",
      "|employee_id|department_id|         name|age|gender|salary| hire_date|     new_name|  date_now|       timestamp_now|\n",
      "+-----------+-------------+-------------+---+------+------+----------+-------------+----------+--------------------+\n",
      "|        001|          101|     John Doe| 30|     M| 50000|2015-01-01|     Zohn Doe|2025-02-15|2025-02-15 09:51:...|\n",
      "|        002|          101|   Jane Smith| 25|     F| 45000|2016-02-15|   Zane Smith|2025-02-15|2025-02-15 09:51:...|\n",
      "|        003|          102|    Bob Brown| 35|     M| 55000|2014-05-01|    Bob Brown|2025-02-15|2025-02-15 09:51:...|\n",
      "|        004|          102|    Alice Lee| 28|     F| 48000|2017-09-30|    Alice Lee|2025-02-15|2025-02-15 09:51:...|\n",
      "|        005|          103|    Jack Chan| 40|     M| 60000|2013-04-01|    Zack Chan|2025-02-15|2025-02-15 09:51:...|\n",
      "|        006|          103|    Jill Wong| 32|     F| 52000|2018-07-01|    Zill Wong|2025-02-15|2025-02-15 09:51:...|\n",
      "|        007|          101|James Johnson| 42|     M| 70000|2012-03-15|Zames Zohnson|2025-02-15|2025-02-15 09:51:...|\n",
      "|        008|          102|     Kate Kim| 29|     F| 51000|2019-10-01|     Kate Kim|2025-02-15|2025-02-15 09:51:...|\n",
      "|        009|          103|      Tom Tan| 33|     M| 58000|2016-06-01|      Tom Tan|2025-02-15|2025-02-15 09:51:...|\n",
      "|        010|          104|     Lisa Lee| 27|     F| 47000|2018-08-01|     Lisa Lee|2025-02-15|2025-02-15 09:51:...|\n",
      "|        011|          104|   David Park| 38|     M| 65000|2015-11-01|   David Park|2025-02-15|2025-02-15 09:51:...|\n",
      "|        012|          105|   Susan Chen| 31|     F| 54000|2017-02-15|   Susan Chen|2025-02-15|2025-02-15 09:51:...|\n",
      "|        013|          106|    Brian Kim| 45|     M| 75000|2011-07-01|    Brian Kim|2025-02-15|2025-02-15 09:51:...|\n",
      "|        014|          107|    Emily Lee| 26|     F| 46000|2019-01-01|    Emily Lee|2025-02-15|2025-02-15 09:51:...|\n",
      "|        015|          106|  Michael Lee| 37|     M| 63000|2014-09-30|  Michael Lee|2025-02-15|2025-02-15 09:51:...|\n",
      "|        016|          107|  Kelly Zhang| 30|     F| 49000|2018-04-01|  Kelly Zhang|2025-02-15|2025-02-15 09:51:...|\n",
      "|        017|          105|  George Wang| 34|     M| 57000|2016-03-15|  George Wang|2025-02-15|2025-02-15 09:51:...|\n",
      "|        019|          103|  Steven Chen| 36|     M| 62000|2015-08-01|  Steven Chen|2025-02-15|2025-02-15 09:51:...|\n",
      "|        020|          102|    Grace Kim| 32|     F| 53000|2018-11-01|    Grace Kim|2025-02-15|2025-02-15 09:51:...|\n",
      "+-----------+-------------+-------------+---+------+------+----------+-------------+----------+--------------------+\n",
      "\n"
     ]
    }
   ],
   "source": [
    "emp_1.show()"
   ]
  },
  {
   "cell_type": "code",
   "execution_count": 19,
   "id": "ae76f6e6-015f-45ee-a57a-1fe76e3eff27",
   "metadata": {},
   "outputs": [],
   "source": [
    "# Fix Null values\n",
    "# select *, nvl('new_gender', 'O') as new_gender from emp_dated\n",
    "from pyspark.sql.functions import coalesce, lit\n",
    "\n",
    "emp_null_df = emp_1.withColumn(\"new_gender\", coalesce(col(\"gender\"), lit(\"O\")))"
   ]
  },
  {
   "cell_type": "code",
   "execution_count": 20,
   "id": "42deea4f-612c-4db6-9d53-77164365153c",
   "metadata": {},
   "outputs": [
    {
     "name": "stdout",
     "output_type": "stream",
     "text": [
      "+-----------+-------------+-------------+---+------+------+----------+-------------+----------+--------------------+----------+\n",
      "|employee_id|department_id|         name|age|gender|salary| hire_date|     new_name|  date_now|       timestamp_now|new_gender|\n",
      "+-----------+-------------+-------------+---+------+------+----------+-------------+----------+--------------------+----------+\n",
      "|        001|          101|     John Doe| 30|     M| 50000|2015-01-01|     Zohn Doe|2025-02-15|2025-02-15 09:52:...|         M|\n",
      "|        002|          101|   Jane Smith| 25|     F| 45000|2016-02-15|   Zane Smith|2025-02-15|2025-02-15 09:52:...|         F|\n",
      "|        003|          102|    Bob Brown| 35|     M| 55000|2014-05-01|    Bob Brown|2025-02-15|2025-02-15 09:52:...|         M|\n",
      "|        004|          102|    Alice Lee| 28|     F| 48000|2017-09-30|    Alice Lee|2025-02-15|2025-02-15 09:52:...|         F|\n",
      "|        005|          103|    Jack Chan| 40|     M| 60000|2013-04-01|    Zack Chan|2025-02-15|2025-02-15 09:52:...|         M|\n",
      "|        006|          103|    Jill Wong| 32|     F| 52000|2018-07-01|    Zill Wong|2025-02-15|2025-02-15 09:52:...|         F|\n",
      "|        007|          101|James Johnson| 42|     M| 70000|2012-03-15|Zames Zohnson|2025-02-15|2025-02-15 09:52:...|         M|\n",
      "|        008|          102|     Kate Kim| 29|     F| 51000|2019-10-01|     Kate Kim|2025-02-15|2025-02-15 09:52:...|         F|\n",
      "|        009|          103|      Tom Tan| 33|     M| 58000|2016-06-01|      Tom Tan|2025-02-15|2025-02-15 09:52:...|         M|\n",
      "|        010|          104|     Lisa Lee| 27|     F| 47000|2018-08-01|     Lisa Lee|2025-02-15|2025-02-15 09:52:...|         F|\n",
      "|        011|          104|   David Park| 38|     M| 65000|2015-11-01|   David Park|2025-02-15|2025-02-15 09:52:...|         M|\n",
      "|        012|          105|   Susan Chen| 31|     F| 54000|2017-02-15|   Susan Chen|2025-02-15|2025-02-15 09:52:...|         F|\n",
      "|        013|          106|    Brian Kim| 45|     M| 75000|2011-07-01|    Brian Kim|2025-02-15|2025-02-15 09:52:...|         M|\n",
      "|        014|          107|    Emily Lee| 26|     F| 46000|2019-01-01|    Emily Lee|2025-02-15|2025-02-15 09:52:...|         F|\n",
      "|        015|          106|  Michael Lee| 37|     M| 63000|2014-09-30|  Michael Lee|2025-02-15|2025-02-15 09:52:...|         M|\n",
      "|        016|          107|  Kelly Zhang| 30|     F| 49000|2018-04-01|  Kelly Zhang|2025-02-15|2025-02-15 09:52:...|         F|\n",
      "|        017|          105|  George Wang| 34|     M| 57000|2016-03-15|  George Wang|2025-02-15|2025-02-15 09:52:...|         M|\n",
      "|        019|          103|  Steven Chen| 36|     M| 62000|2015-08-01|  Steven Chen|2025-02-15|2025-02-15 09:52:...|         M|\n",
      "|        020|          102|    Grace Kim| 32|     F| 53000|2018-11-01|    Grace Kim|2025-02-15|2025-02-15 09:52:...|         F|\n",
      "+-----------+-------------+-------------+---+------+------+----------+-------------+----------+--------------------+----------+\n",
      "\n"
     ]
    }
   ],
   "source": [
    "emp_null_df.show()"
   ]
  },
  {
   "cell_type": "code",
   "execution_count": 21,
   "id": "500ba48b-648b-4828-9f86-f2fab97e9e8b",
   "metadata": {},
   "outputs": [],
   "source": [
    "# Drop old columns and Fix new column names\n",
    "emp_final = emp_null_df.drop(\"name\", \"gender\").withColumnRenamed(\"new_name\", \"name\").withColumnRenamed(\"new_gender\", \"gender\")"
   ]
  },
  {
   "cell_type": "code",
   "execution_count": 23,
   "id": "7c0950b6-49f8-48b5-b92a-3eb715eeee41",
   "metadata": {},
   "outputs": [],
   "source": [
    "from pyspark.sql.functions import date_format\n",
    "emp_fixed = emp_final.withColumn(\"date_string\",date_format(col(\"hire_date\"),\"dd/MM/yyyy\"))"
   ]
  },
  {
   "cell_type": "code",
   "execution_count": 25,
   "id": "0a7933ea-0d93-4a92-b9d7-1d26eb7d94f0",
   "metadata": {},
   "outputs": [
    {
     "name": "stdout",
     "output_type": "stream",
     "text": [
      "+-----------+-------------+---+------+----------+-------------+----------+--------------------+------+-----------+\n",
      "|employee_id|department_id|age|salary| hire_date|         name|  date_now|       timestamp_now|gender|date_string|\n",
      "+-----------+-------------+---+------+----------+-------------+----------+--------------------+------+-----------+\n",
      "|        001|          101| 30| 50000|2015-01-01|     Zohn Doe|2025-02-15|2025-02-15 09:55:...|     M| 01/01/2015|\n",
      "|        002|          101| 25| 45000|2016-02-15|   Zane Smith|2025-02-15|2025-02-15 09:55:...|     F| 15/02/2016|\n",
      "|        003|          102| 35| 55000|2014-05-01|    Bob Brown|2025-02-15|2025-02-15 09:55:...|     M| 01/05/2014|\n",
      "|        004|          102| 28| 48000|2017-09-30|    Alice Lee|2025-02-15|2025-02-15 09:55:...|     F| 30/09/2017|\n",
      "|        005|          103| 40| 60000|2013-04-01|    Zack Chan|2025-02-15|2025-02-15 09:55:...|     M| 01/04/2013|\n",
      "|        006|          103| 32| 52000|2018-07-01|    Zill Wong|2025-02-15|2025-02-15 09:55:...|     F| 01/07/2018|\n",
      "|        007|          101| 42| 70000|2012-03-15|Zames Zohnson|2025-02-15|2025-02-15 09:55:...|     M| 15/03/2012|\n",
      "|        008|          102| 29| 51000|2019-10-01|     Kate Kim|2025-02-15|2025-02-15 09:55:...|     F| 01/10/2019|\n",
      "|        009|          103| 33| 58000|2016-06-01|      Tom Tan|2025-02-15|2025-02-15 09:55:...|     M| 01/06/2016|\n",
      "|        010|          104| 27| 47000|2018-08-01|     Lisa Lee|2025-02-15|2025-02-15 09:55:...|     F| 01/08/2018|\n",
      "|        011|          104| 38| 65000|2015-11-01|   David Park|2025-02-15|2025-02-15 09:55:...|     M| 01/11/2015|\n",
      "|        012|          105| 31| 54000|2017-02-15|   Susan Chen|2025-02-15|2025-02-15 09:55:...|     F| 15/02/2017|\n",
      "|        013|          106| 45| 75000|2011-07-01|    Brian Kim|2025-02-15|2025-02-15 09:55:...|     M| 01/07/2011|\n",
      "|        014|          107| 26| 46000|2019-01-01|    Emily Lee|2025-02-15|2025-02-15 09:55:...|     F| 01/01/2019|\n",
      "|        015|          106| 37| 63000|2014-09-30|  Michael Lee|2025-02-15|2025-02-15 09:55:...|     M| 30/09/2014|\n",
      "|        016|          107| 30| 49000|2018-04-01|  Kelly Zhang|2025-02-15|2025-02-15 09:55:...|     F| 01/04/2018|\n",
      "|        017|          105| 34| 57000|2016-03-15|  George Wang|2025-02-15|2025-02-15 09:55:...|     M| 15/03/2016|\n",
      "|        019|          103| 36| 62000|2015-08-01|  Steven Chen|2025-02-15|2025-02-15 09:55:...|     M| 01/08/2015|\n",
      "|        020|          102| 32| 53000|2018-11-01|    Grace Kim|2025-02-15|2025-02-15 09:55:...|     F| 01/11/2018|\n",
      "+-----------+-------------+---+------+----------+-------------+----------+--------------------+------+-----------+\n",
      "\n"
     ]
    }
   ],
   "source": [
    "emp_fixed.show()"
   ]
  },
  {
   "cell_type": "code",
   "execution_count": null,
   "id": "bbf15c30-d1ff-4589-97ce-64014e6f0f7c",
   "metadata": {},
   "outputs": [],
   "source": []
  }
 ],
 "metadata": {
  "kernelspec": {
   "display_name": "Python 3 (ipykernel)",
   "language": "python",
   "name": "python3"
  },
  "language_info": {
   "codemirror_mode": {
    "name": "ipython",
    "version": 3
   },
   "file_extension": ".py",
   "mimetype": "text/x-python",
   "name": "python",
   "nbconvert_exporter": "python",
   "pygments_lexer": "ipython3",
   "version": "3.12.3"
  }
 },
 "nbformat": 4,
 "nbformat_minor": 5
}
