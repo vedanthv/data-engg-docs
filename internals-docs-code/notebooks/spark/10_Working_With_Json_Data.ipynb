{
 "cells": [
  {
   "cell_type": "code",
   "execution_count": 2,
   "id": "a19f0e70-e76f-41d5-8d6b-f937f2c4e607",
   "metadata": {},
   "outputs": [
    {
     "name": "stderr",
     "output_type": "stream",
     "text": [
      "Setting default log level to \"WARN\".\n",
      "To adjust logging level use sc.setLogLevel(newLevel). For SparkR, use setLogLevel(newLevel).\n",
      "25/02/15 16:55:06 WARN NativeCodeLoader: Unable to load native-hadoop library for your platform... using builtin-java classes where applicable\n",
      "25/02/15 16:55:07 WARN Utils: Service 'SparkUI' could not bind on port 4040. Attempting port 4041.\n"
     ]
    },
    {
     "data": {
      "text/html": [
       "\n",
       "            <div>\n",
       "                <p><b>SparkSession - in-memory</b></p>\n",
       "                \n",
       "        <div>\n",
       "            <p><b>SparkContext</b></p>\n",
       "\n",
       "            <p><a href=\"http://ip-172-31-20-231.ec2.internal:4041\">Spark UI</a></p>\n",
       "\n",
       "            <dl>\n",
       "              <dt>Version</dt>\n",
       "                <dd><code>v3.5.4</code></dd>\n",
       "              <dt>Master</dt>\n",
       "                <dd><code>local[*]</code></dd>\n",
       "              <dt>AppName</dt>\n",
       "                <dd><code>Reading and Parsing JSON Files/Data</code></dd>\n",
       "            </dl>\n",
       "        </div>\n",
       "        \n",
       "            </div>\n",
       "        "
      ],
      "text/plain": [
       "<pyspark.sql.session.SparkSession at 0x739e66b66e70>"
      ]
     },
     "execution_count": 2,
     "metadata": {},
     "output_type": "execute_result"
    }
   ],
   "source": [
    "# Spark Session\n",
    "from pyspark.sql import SparkSession\n",
    "\n",
    "spark = (\n",
    "    SparkSession\n",
    "    .builder\n",
    "    .appName(\"Reading and Parsing JSON Files/Data\")\n",
    "    .master(\"local[*]\")\n",
    "    .getOrCreate()\n",
    ")\n",
    "\n",
    "spark"
   ]
  },
  {
   "cell_type": "code",
   "execution_count": 3,
   "id": "32cf7196-9bdf-4190-ae3e-cb4641a15a48",
   "metadata": {},
   "outputs": [
    {
     "name": "stderr",
     "output_type": "stream",
     "text": [
      "                                                                                "
     ]
    }
   ],
   "source": [
    "# Read Single line JSON file\n",
    "\n",
    "df_single = spark.read.format(\"json\").load(\"data/order_singleline.json\")"
   ]
  },
  {
   "cell_type": "code",
   "execution_count": 4,
   "id": "89751ebe-e1de-4c9b-87bf-934a779d4abf",
   "metadata": {},
   "outputs": [
    {
     "name": "stdout",
     "output_type": "stream",
     "text": [
      "root\n",
      " |-- contact: array (nullable = true)\n",
      " |    |-- element: long (containsNull = true)\n",
      " |-- customer_id: string (nullable = true)\n",
      " |-- order_id: string (nullable = true)\n",
      " |-- order_line_items: array (nullable = true)\n",
      " |    |-- element: struct (containsNull = true)\n",
      " |    |    |-- amount: double (nullable = true)\n",
      " |    |    |-- item_id: string (nullable = true)\n",
      " |    |    |-- qty: long (nullable = true)\n",
      "\n"
     ]
    }
   ],
   "source": [
    "df_single.printSchema()"
   ]
  },
  {
   "cell_type": "code",
   "execution_count": 5,
   "id": "2aa4a0b7-c180-42d2-8335-e91d0b9d320d",
   "metadata": {},
   "outputs": [
    {
     "name": "stdout",
     "output_type": "stream",
     "text": [
      "+------------------------+-----------+--------+------------------------------------+\n",
      "|contact                 |customer_id|order_id|order_line_items                    |\n",
      "+------------------------+-----------+--------+------------------------------------+\n",
      "|[9000010000, 9000010001]|C001       |O101    |[{102.45, I001, 6}, {2.01, I003, 2}]|\n",
      "+------------------------+-----------+--------+------------------------------------+\n",
      "\n"
     ]
    }
   ],
   "source": [
    "df_single.show(truncate = False)"
   ]
  },
  {
   "cell_type": "code",
   "execution_count": 10,
   "id": "1b88949d-aee5-4416-93b3-315ae8f5f4e2",
   "metadata": {},
   "outputs": [],
   "source": [
    "# Read Multiline JSON file\n",
    "\n",
    "df_multi = spark.read.format(\"json\").option(\"multiLine\", True).load(\"data/order_multiline.json\")"
   ]
  },
  {
   "cell_type": "code",
   "execution_count": 11,
   "id": "755e9c86-4dcf-4c54-b769-d215da56bfe2",
   "metadata": {},
   "outputs": [
    {
     "name": "stdout",
     "output_type": "stream",
     "text": [
      "root\n",
      " |-- contact: array (nullable = true)\n",
      " |    |-- element: long (containsNull = true)\n",
      " |-- customer_id: string (nullable = true)\n",
      " |-- order_id: string (nullable = true)\n",
      " |-- order_line_items: array (nullable = true)\n",
      " |    |-- element: struct (containsNull = true)\n",
      " |    |    |-- amount: double (nullable = true)\n",
      " |    |    |-- item_id: string (nullable = true)\n",
      " |    |    |-- qty: long (nullable = true)\n",
      "\n"
     ]
    }
   ],
   "source": [
    "df_multi.printSchema()"
   ]
  },
  {
   "cell_type": "code",
   "execution_count": 13,
   "id": "6bf1664e-f079-48e0-9c47-dd6aecabe6f9",
   "metadata": {},
   "outputs": [
    {
     "name": "stdout",
     "output_type": "stream",
     "text": [
      "+------------------------+-----------+--------+------------------------------------+\n",
      "|contact                 |customer_id|order_id|order_line_items                    |\n",
      "+------------------------+-----------+--------+------------------------------------+\n",
      "|[9000010000, 9000010001]|C001       |O101    |[{102.45, I001, 6}, {2.01, I003, 2}]|\n",
      "+------------------------+-----------+--------+------------------------------------+\n",
      "\n"
     ]
    }
   ],
   "source": [
    "df_multi.show(truncate=False)"
   ]
  },
  {
   "cell_type": "code",
   "execution_count": 15,
   "id": "4d1f3c8f-2cde-428a-a723-f638243f6fad",
   "metadata": {},
   "outputs": [],
   "source": [
    "# With Schema\n",
    "\n",
    "_schema = \"customer_id string, order_id string, contact array<long>\"\n",
    "\n",
    "df_schema = spark.read.format(\"json\").schema(_schema).load(\"data/order_singleline.json\")"
   ]
  },
  {
   "cell_type": "code",
   "execution_count": 16,
   "id": "2618f1c7-2e74-4e0f-bcde-ad45353dc43f",
   "metadata": {},
   "outputs": [
    {
     "name": "stdout",
     "output_type": "stream",
     "text": [
      "+-----------+--------+--------------------+\n",
      "|customer_id|order_id|             contact|\n",
      "+-----------+--------+--------------------+\n",
      "|       C001|    O101|[9000010000, 9000...|\n",
      "+-----------+--------+--------------------+\n",
      "\n"
     ]
    }
   ],
   "source": [
    "df_schema.show()"
   ]
  },
  {
   "cell_type": "markdown",
   "id": "3d205048-2d20-4142-965e-828b55851afe",
   "metadata": {},
   "source": [
    "### Writing Complex Schema"
   ]
  },
  {
   "cell_type": "raw",
   "id": "64bda16b-756a-4414-a1cc-f4331ad91b18",
   "metadata": {},
   "source": [
    "root\n",
    " |-- contact: array (nullable = true)\n",
    " |    |-- element: long (containsNull = true)\n",
    " |-- customer_id: string (nullable = true)\n",
    " |-- order_id: string (nullable = true)\n",
    " |-- order_line_items: array (nullable = true)\n",
    " |    |-- element: struct (containsNull = true)\n",
    " |    |    |-- amount: double (nullable = true)\n",
    " |    |    |-- item_id: string (nullable = true)\n",
    " |    |    |-- qty: long (nullable = true)"
   ]
  },
  {
   "cell_type": "code",
   "execution_count": 17,
   "id": "fdab4607-9395-4536-a26d-b1080aa6d451",
   "metadata": {},
   "outputs": [],
   "source": [
    "_schema = \"contact array<string>,customer_id string,order_id string,order_line_items array<struct<amount double,item_id string,qty long>>\""
   ]
  },
  {
   "cell_type": "code",
   "execution_count": 19,
   "id": "ae65e602-bb55-4f5b-9bb5-08f462475317",
   "metadata": {},
   "outputs": [],
   "source": [
    "df_schema_new = spark.read.format(\"json\").schema(_schema).load(\"data/order_singleline.json\")"
   ]
  },
  {
   "cell_type": "code",
   "execution_count": 20,
   "id": "bc84a09e-9c5f-4b50-b9f9-1d84e9acd6c4",
   "metadata": {},
   "outputs": [
    {
     "name": "stdout",
     "output_type": "stream",
     "text": [
      "root\n",
      " |-- contact: array (nullable = true)\n",
      " |    |-- element: string (containsNull = true)\n",
      " |-- customer_id: string (nullable = true)\n",
      " |-- order_id: string (nullable = true)\n",
      " |-- order_line_items: array (nullable = true)\n",
      " |    |-- element: struct (containsNull = true)\n",
      " |    |    |-- amount: double (nullable = true)\n",
      " |    |    |-- item_id: string (nullable = true)\n",
      " |    |    |-- qty: long (nullable = true)\n",
      "\n"
     ]
    }
   ],
   "source": [
    "df_schema_new.printSchema()"
   ]
  },
  {
   "cell_type": "code",
   "execution_count": 22,
   "id": "8aba76c2-a6f5-443c-b198-3dab7db96bb2",
   "metadata": {},
   "outputs": [],
   "source": [
    "df = spark.read.format(\"text\").load(\"data/order_singleline.json\")"
   ]
  },
  {
   "cell_type": "code",
   "execution_count": 23,
   "id": "8901d8f2-1392-4061-935a-8be6bfcac2de",
   "metadata": {},
   "outputs": [
    {
     "name": "stdout",
     "output_type": "stream",
     "text": [
      "root\n",
      " |-- value: string (nullable = true)\n",
      "\n"
     ]
    }
   ],
   "source": [
    "df.printSchema()"
   ]
  },
  {
   "cell_type": "code",
   "execution_count": 24,
   "id": "ace9e949-c3bf-49e0-9575-fbc46b477958",
   "metadata": {},
   "outputs": [
    {
     "name": "stdout",
     "output_type": "stream",
     "text": [
      "+-----------------------------------------------------------------------------------------------------------------------------------------------------------------------------------+\n",
      "|value                                                                                                                                                                              |\n",
      "+-----------------------------------------------------------------------------------------------------------------------------------------------------------------------------------+\n",
      "|{\"order_id\":\"O101\",\"customer_id\":\"C001\",\"order_line_items\":[{\"item_id\":\"I001\",\"qty\":6,\"amount\":102.45},{\"item_id\":\"I003\",\"qty\":2,\"amount\":2.01}],\"contact\":[9000010000,9000010001]}|\n",
      "+-----------------------------------------------------------------------------------------------------------------------------------------------------------------------------------+\n",
      "\n"
     ]
    }
   ],
   "source": [
    "df.show(truncate=False)"
   ]
  },
  {
   "cell_type": "code",
   "execution_count": 25,
   "id": "b5c59e18-f5ec-45cb-91f8-92619d5b96a4",
   "metadata": {},
   "outputs": [],
   "source": [
    "_schema = \"contact array<string>, customer_id string, order_id string, order_line_items array<struct<amount double, item_id string, qty long>>\"\n"
   ]
  },
  {
   "cell_type": "code",
   "execution_count": 26,
   "id": "7ae67945-fc0d-429e-b9c7-8aec63df3164",
   "metadata": {},
   "outputs": [],
   "source": [
    "\n",
    "from pyspark.sql.functions import from_json\n",
    "\n",
    "df_expanded = df.withColumn(\"parsed\", from_json(df.value, _schema))"
   ]
  },
  {
   "cell_type": "code",
   "execution_count": 27,
   "id": "fbf6a47b-9e9c-4dad-b358-ebf61088ce65",
   "metadata": {},
   "outputs": [
    {
     "name": "stdout",
     "output_type": "stream",
     "text": [
      "+--------------------+--------------------+\n",
      "|               value|              parsed|\n",
      "+--------------------+--------------------+\n",
      "|{\"order_id\":\"O101...|{[9000010000, 900...|\n",
      "+--------------------+--------------------+\n",
      "\n"
     ]
    }
   ],
   "source": [
    "df_expanded.show()"
   ]
  },
  {
   "cell_type": "code",
   "execution_count": 28,
   "id": "801a7baa-2913-439e-82fc-0b93d9830499",
   "metadata": {},
   "outputs": [],
   "source": [
    "from pyspark.sql.functions import to_json\n",
    "\n",
    "df_unparsed = df_expanded.withColumn(\"unparsed\", to_json(df_expanded.parsed))"
   ]
  },
  {
   "cell_type": "code",
   "execution_count": 31,
   "id": "8a5dc393-99f2-40b8-b71d-09f675d32893",
   "metadata": {},
   "outputs": [
    {
     "name": "stdout",
     "output_type": "stream",
     "text": [
      "+--------------------+--------------------+--------------------+\n",
      "|               value|              parsed|            unparsed|\n",
      "+--------------------+--------------------+--------------------+\n",
      "|{\"order_id\":\"O101...|{[9000010000, 900...|{\"contact\":[\"9000...|\n",
      "+--------------------+--------------------+--------------------+\n",
      "\n"
     ]
    }
   ],
   "source": [
    "df_unparsed.show()"
   ]
  },
  {
   "cell_type": "code",
   "execution_count": 33,
   "id": "39bea77d-53b8-4b98-98f4-d67290371f1b",
   "metadata": {},
   "outputs": [
    {
     "name": "stdout",
     "output_type": "stream",
     "text": [
      "+----------------------------------------------------------------------------+\n",
      "|parsed                                                                      |\n",
      "+----------------------------------------------------------------------------+\n",
      "|{[9000010000, 9000010001], C001, O101, [{102.45, I001, 6}, {2.01, I003, 2}]}|\n",
      "+----------------------------------------------------------------------------+\n",
      "\n"
     ]
    }
   ],
   "source": [
    "df_unparsed.select(\"parsed\").show(truncate=False)"
   ]
  },
  {
   "cell_type": "code",
   "execution_count": 32,
   "id": "4bfea983-340f-4a1f-b528-6e650ae845e7",
   "metadata": {},
   "outputs": [
    {
     "name": "stdout",
     "output_type": "stream",
     "text": [
      "+---------------------------------------------------------------------------------------------------------------------------------------------------------------------------------------+\n",
      "|unparsed                                                                                                                                                                               |\n",
      "+---------------------------------------------------------------------------------------------------------------------------------------------------------------------------------------+\n",
      "|{\"contact\":[\"9000010000\",\"9000010001\"],\"customer_id\":\"C001\",\"order_id\":\"O101\",\"order_line_items\":[{\"amount\":102.45,\"item_id\":\"I001\",\"qty\":6},{\"amount\":2.01,\"item_id\":\"I003\",\"qty\":2}]}|\n",
      "+---------------------------------------------------------------------------------------------------------------------------------------------------------------------------------------+\n",
      "\n"
     ]
    }
   ],
   "source": [
    "df_unparsed.select(\"unparsed\").show(truncate=False)"
   ]
  },
  {
   "cell_type": "code",
   "execution_count": 34,
   "id": "673eda33-63bc-4f36-8bbc-2ef08dcc1cbb",
   "metadata": {},
   "outputs": [],
   "source": [
    "# Get values from Parsed JSON\n",
    "\n",
    "df_1 = df_expanded.select(\"parsed.*\")"
   ]
  },
  {
   "cell_type": "code",
   "execution_count": 35,
   "id": "d2f26860-fb45-4961-ab54-42a52df55028",
   "metadata": {},
   "outputs": [
    {
     "name": "stdout",
     "output_type": "stream",
     "text": [
      "+--------------------+-----------+--------+--------------------+\n",
      "|             contact|customer_id|order_id|    order_line_items|\n",
      "+--------------------+-----------+--------+--------------------+\n",
      "|[9000010000, 9000...|       C001|    O101|[{102.45, I001, 6...|\n",
      "+--------------------+-----------+--------+--------------------+\n",
      "\n"
     ]
    }
   ],
   "source": [
    "df_1.show()"
   ]
  },
  {
   "cell_type": "code",
   "execution_count": 36,
   "id": "2f34a8ed-a45e-4e18-bdb1-b11f3ca48f89",
   "metadata": {},
   "outputs": [
    {
     "name": "stdout",
     "output_type": "stream",
     "text": [
      "root\n",
      " |-- contact: array (nullable = true)\n",
      " |    |-- element: string (containsNull = true)\n",
      " |-- customer_id: string (nullable = true)\n",
      " |-- order_id: string (nullable = true)\n",
      " |-- order_line_items: array (nullable = true)\n",
      " |    |-- element: struct (containsNull = true)\n",
      " |    |    |-- amount: double (nullable = true)\n",
      " |    |    |-- item_id: string (nullable = true)\n",
      " |    |    |-- qty: long (nullable = true)\n",
      "\n"
     ]
    }
   ],
   "source": [
    "df_1.printSchema()"
   ]
  },
  {
   "cell_type": "code",
   "execution_count": 39,
   "id": "a64fe5b8-a4d3-4622-bb29-41ee321182e4",
   "metadata": {},
   "outputs": [],
   "source": [
    "from pyspark.sql.functions import explode\n",
    "df_2 = df_1.withColumn(\"orders\",explode(\"order_line_items\")).withColumn(\"contact_details\",explode(\"contact\"))"
   ]
  },
  {
   "cell_type": "code",
   "execution_count": 40,
   "id": "bd3a7e26-214c-42ef-a35b-9bb447924fc3",
   "metadata": {},
   "outputs": [
    {
     "name": "stdout",
     "output_type": "stream",
     "text": [
      "+--------------------+-----------+--------+--------------------+-----------------+---------------+\n",
      "|             contact|customer_id|order_id|    order_line_items|           orders|contact_details|\n",
      "+--------------------+-----------+--------+--------------------+-----------------+---------------+\n",
      "|[9000010000, 9000...|       C001|    O101|[{102.45, I001, 6...|{102.45, I001, 6}|     9000010000|\n",
      "|[9000010000, 9000...|       C001|    O101|[{102.45, I001, 6...|{102.45, I001, 6}|     9000010001|\n",
      "|[9000010000, 9000...|       C001|    O101|[{102.45, I001, 6...|  {2.01, I003, 2}|     9000010000|\n",
      "|[9000010000, 9000...|       C001|    O101|[{102.45, I001, 6...|  {2.01, I003, 2}|     9000010001|\n",
      "+--------------------+-----------+--------+--------------------+-----------------+---------------+\n",
      "\n"
     ]
    }
   ],
   "source": [
    "df_2.show()"
   ]
  },
  {
   "cell_type": "code",
   "execution_count": 43,
   "id": "6e908a2a-643f-4441-9d14-d4922b58d3d8",
   "metadata": {},
   "outputs": [],
   "source": [
    "df_final = df_2.select(\"contact_details\",\"customer_id\",\"order_id\",\"orders.*\")"
   ]
  },
  {
   "cell_type": "code",
   "execution_count": 44,
   "id": "55617f12-2d59-4550-b6f7-1743bdb813ff",
   "metadata": {},
   "outputs": [
    {
     "name": "stdout",
     "output_type": "stream",
     "text": [
      "+---------------+-----------+--------+------+-------+---+\n",
      "|contact_details|customer_id|order_id|amount|item_id|qty|\n",
      "+---------------+-----------+--------+------+-------+---+\n",
      "|     9000010000|       C001|    O101|102.45|   I001|  6|\n",
      "|     9000010001|       C001|    O101|102.45|   I001|  6|\n",
      "|     9000010000|       C001|    O101|  2.01|   I003|  2|\n",
      "|     9000010001|       C001|    O101|  2.01|   I003|  2|\n",
      "+---------------+-----------+--------+------+-------+---+\n",
      "\n"
     ]
    }
   ],
   "source": [
    "df_final.show()"
   ]
  },
  {
   "cell_type": "code",
   "execution_count": 45,
   "id": "d4a3c355-3942-4786-8e0e-95dbf4bb089d",
   "metadata": {},
   "outputs": [],
   "source": [
    "spark.stop()"
   ]
  },
  {
   "cell_type": "code",
   "execution_count": null,
   "id": "b43bad1b-f019-4c45-8b75-412d5be9c214",
   "metadata": {},
   "outputs": [],
   "source": []
  }
 ],
 "metadata": {
  "kernelspec": {
   "display_name": "Python 3 (ipykernel)",
   "language": "python",
   "name": "python3"
  },
  "language_info": {
   "codemirror_mode": {
    "name": "ipython",
    "version": 3
   },
   "file_extension": ".py",
   "mimetype": "text/x-python",
   "name": "python",
   "nbconvert_exporter": "python",
   "pygments_lexer": "ipython3",
   "version": "3.12.3"
  }
 },
 "nbformat": 4,
 "nbformat_minor": 5
}
