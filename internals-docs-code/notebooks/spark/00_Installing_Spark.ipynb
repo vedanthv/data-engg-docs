{
 "cells": [
  {
   "cell_type": "markdown",
   "id": "fc732ac0-c6d1-4a8f-9ac7-8bea2b49cd4f",
   "metadata": {},
   "source": [
    "### Installing Spark on EC2"
   ]
  },
  {
   "cell_type": "markdown",
   "id": "e3c10852-2179-47cf-b813-49a4743eacfa",
   "metadata": {},
   "source": [
    "### Spinning Up Miniconda on EC2\n",
    "\n",
    "https://stackoverflow.com/a/66622495"
   ]
  },
  {
   "cell_type": "markdown",
   "id": "c1589e4a-4409-4c2c-8dcd-50e81552be83",
   "metadata": {},
   "source": [
    "### Installing JDK\n",
    "```\n",
    "sudo apt update\n",
    "sudo apt install openjdk-11-jdk -y\n",
    "```"
   ]
  },
  {
   "cell_type": "markdown",
   "id": "d24c1c25-dc77-4bec-8599-96cc13ff29d6",
   "metadata": {},
   "source": [
    "### Installing Spark [Be Patient, this takes time!]\n",
    "```\n",
    "wget https://dlcdn.apache.org/spark/spark-3.4.0/spark-3.4.0-bin-hadoop3.tgz\n",
    "\n",
    "tar xvf spark-3.4.0-bin-hadoop3.tgz\n",
    "```"
   ]
  },
  {
   "cell_type": "markdown",
   "id": "e32b5561-6677-4665-bda9-b14fe525f585",
   "metadata": {},
   "source": [
    "### Changing the Path of Spark\n",
    "\n",
    "```\n",
    "sudo mv spark-3.4.0-bin-hadoop3 /opt/spark\n",
    "```"
   ]
  },
  {
   "cell_type": "markdown",
   "id": "f9d088ce-aa15-4ccd-93a4-0a4c1f2bc400",
   "metadata": {},
   "source": [
    "%md\n",
    "### Set Path Vars\n",
    "\n",
    "```\n",
    "nano ~/.bashrc\n",
    "```\n",
    "\n",
    "```\n",
    "export SPARK_HOME=/home/ubuntu/spark-3.5.4-bin-hadoop3\n",
    "export PYTHONPATH=$SPARK_HOME/python/lib/py4j-0.10.9.7-src.zip:$PYTHONPATH\n",
    "```\n",
    "\n",
    "Save and exit the file by pressing CTRL + O, then press Enter to confirm, and CTRL + X to exit.\n",
    "\n",
    "```\n",
    "source ~/.bashrc\n",
    "```"
   ]
  },
  {
   "cell_type": "code",
   "execution_count": 2,
   "id": "947e5e14-1fd0-43bf-87d6-e04c49913db7",
   "metadata": {},
   "outputs": [
    {
     "name": "stderr",
     "output_type": "stream",
     "text": [
      "Setting default log level to \"WARN\".\n",
      "To adjust logging level use sc.setLogLevel(newLevel). For SparkR, use setLogLevel(newLevel).\n",
      "25/02/15 09:46:43 WARN NativeCodeLoader: Unable to load native-hadoop library for your platform... using builtin-java classes where applicable\n"
     ]
    },
    {
     "name": "stdout",
     "output_type": "stream",
     "text": [
      "3.5.4\n"
     ]
    }
   ],
   "source": [
    "### Testing\n",
    "import os\n",
    "from pyspark.sql import SparkSession\n",
    "\n",
    "# Set the Spark Home if not already set\n",
    "os.environ['SPARK_HOME'] = '/opt/spark'\n",
    "\n",
    "# Initialize Spark Session (ensure no spaces after the backslash)\n",
    "spark = SparkSession.builder \\\n",
    "    .appName(\"Jupyter Spark Example\") \\\n",
    "    .master(\"local[*]\").config(\"spark.driver.memory\", \"2g\").getOrCreate()\n",
    "\n",
    "# Verify that Spark session is created\n",
    "print(spark.version)\n"
   ]
  },
  {
   "cell_type": "code",
   "execution_count": 3,
   "id": "6b928ddf-a4c8-47b1-a7af-cf0c832cc45c",
   "metadata": {},
   "outputs": [
    {
     "name": "stderr",
     "output_type": "stream",
     "text": [
      "                                                                                "
     ]
    },
    {
     "name": "stdout",
     "output_type": "stream",
     "text": [
      "+---+-------+\n",
      "| ID|   Name|\n",
      "+---+-------+\n",
      "|  1|  Alice|\n",
      "|  2|    Bob|\n",
      "|  3|Charlie|\n",
      "+---+-------+\n",
      "\n"
     ]
    }
   ],
   "source": [
    "data = [(1, \"Alice\"), (2, \"Bob\"), (3, \"Charlie\")]\n",
    "columns = [\"ID\", \"Name\"]\n",
    "\n",
    "# Create a DataFrame\n",
    "df = spark.createDataFrame(data, columns)\n",
    "df.show()"
   ]
  },
  {
   "cell_type": "code",
   "execution_count": null,
   "id": "7d367094-bbcc-4cb4-beff-ab6bdd25e76c",
   "metadata": {},
   "outputs": [],
   "source": []
  }
 ],
 "metadata": {
  "kernelspec": {
   "display_name": "Python 3 (ipykernel)",
   "language": "python",
   "name": "python3"
  },
  "language_info": {
   "codemirror_mode": {
    "name": "ipython",
    "version": 3
   },
   "file_extension": ".py",
   "mimetype": "text/x-python",
   "name": "python",
   "nbconvert_exporter": "python",
   "pygments_lexer": "ipython3",
   "version": "3.12.3"
  }
 },
 "nbformat": 4,
 "nbformat_minor": 5
}
